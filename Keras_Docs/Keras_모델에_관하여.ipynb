{
  "nbformat": 4,
  "nbformat_minor": 0,
  "metadata": {
    "colab": {
      "name": "Keras 모델에 관하여.ipynb",
      "provenance": [],
      "collapsed_sections": [],
      "authorship_tag": "ABX9TyN45Yr6x09GkTxvsEG9CuZ2",
      "include_colab_link": true
    },
    "kernelspec": {
      "name": "python3",
      "display_name": "Python 3"
    }
  },
  "cells": [
    {
      "cell_type": "markdown",
      "metadata": {
        "id": "view-in-github",
        "colab_type": "text"
      },
      "source": [
        "<a href=\"https://colab.research.google.com/github/SeonHyungJo/tensorflow-2.0-study/blob/master/Keras%20Docs/Keras_%EB%AA%A8%EB%8D%B8%EC%97%90_%EA%B4%80%ED%95%98%EC%97%AC.ipynb\" target=\"_parent\"><img src=\"https://colab.research.google.com/assets/colab-badge.svg\" alt=\"Open In Colab\"/></a>"
      ]
    },
    {
      "cell_type": "markdown",
      "metadata": {
        "id": "_a-rCfTs93fi",
        "colab_type": "text"
      },
      "source": [
        "# Keras 모델에 관하여\n",
        "\n",
        "Keras가 제공하는 모델은 2가지가 있다.\n",
        "\n",
        "- Sequential 모델과 함께 사용되는\n",
        "- 함수형 API와 함께 사용되는\n",
        "\n",
        "아래의 메소드와 속성은 공통적으로 가지고 있다.\n",
        "- `model.layers` : 모델을 구성하는 층들이 저장된 1차원 리스트\n",
        "- `model.inputs` : 모델의 입력 텐서들이 저장된 1차원 리스트\n",
        "- `model.outputs` : 모델의 출력 텐서들이 저장된 1차원 리스트\n",
        "- `model.summary()` : 모델의 구조를 요약 `utils.print_summary(model)`로도 가능하다.\n",
        "- `model.get_config()` : 모델의 설정이 저장된 딕셔너리를 반환한다. 모든 모델은 다음과 같이 설정 내용으로부터 다시 인스턴스화 될 수 있다."
      ]
    },
    {
      "cell_type": "code",
      "metadata": {
        "id": "-U-ZdYVD92fC",
        "colab_type": "code",
        "colab": {}
      },
      "source": [
        "config = model.get_config()\n",
        "model = Model.from_config(config)\n",
        "# 또는, Sequential 모델의 경우:\n",
        "model = Sequential.from_config(config)"
      ],
      "execution_count": null,
      "outputs": []
    },
    {
      "cell_type": "markdown",
      "metadata": {
        "id": "_ZoTGSMT_pcl",
        "colab_type": "text"
      },
      "source": [
        "- `model.get_weights()` : 모델의 가중치 텐서들이 Numpy 배열로 저장된 1차원 리스트\n",
        "- `model.set_weight(weights)` : 모델의 가중치 값을 Numpy 배열의 리스트로 설정한다. 리스트에 있는 배열의 크기는 `get_weights()`로 부터 반환된 것과 동일하다.\n",
        "- `model.to_json()` : 모델의 구조를 JSON 문자열로 반환한다. 가중치를 제외한 오로지 구조만 포함."
      ]
    },
    {
      "cell_type": "code",
      "metadata": {
        "id": "_th_rrHwAHsq",
        "colab_type": "code",
        "colab": {}
      },
      "source": [
        "from keras.models import model_from_json\n",
        "\n",
        "json_string = model.to_json()\n",
        "model = model_from_json(json_string)"
      ],
      "execution_count": null,
      "outputs": []
    },
    {
      "cell_type": "markdown",
      "metadata": {
        "id": "SrEAFUKwAIiL",
        "colab_type": "text"
      },
      "source": [
        "- `model.to_yaml()` : 모델의 구조를 YAML 문자열로 반환한다. JSON과 동일하게 가중치를 제외하고 구조만 포함한다."
      ]
    },
    {
      "cell_type": "code",
      "metadata": {
        "id": "FOQGI-UWAcs-",
        "colab_type": "code",
        "colab": {}
      },
      "source": [
        "from keras.models import model_from_yaml\n",
        "\n",
        "yaml_string = model.to_yaml()\n",
        "model = model_from_yaml(yaml_string)"
      ],
      "execution_count": null,
      "outputs": []
    },
    {
      "cell_type": "markdown",
      "metadata": {
        "id": "YQWiYZXhAeiD",
        "colab_type": "text"
      },
      "source": [
        "- `model.save_weights(filepath)` : 모델의 가중치를 HDF5파일로 저장한다.\n",
        "- `model.load_weitghts(filepath, by_name=False)` : 모델의 가중치를 HDF5파일로 불러온다. 기본설정인 by_name=False 는 모델과 가중치 파일의 네트워크 구조가 동일하다는 가정을 한다. \n"
      ]
    },
    {
      "cell_type": "markdown",
      "metadata": {
        "id": "Lw-JARHzA2_V",
        "colab_type": "text"
      },
      "source": [
        "# Model 하위 클래스 만들기\n",
        "\n",
        "위에 언급된 두 가지 방법 외에도, Keras 2.2.0 버전부터 Model 클래스의 하위 클래스를 만들어 모델을 구현할 수 있는 API가 추가되었습니다. 해당 API를 사용해 `Model`의 하위 클래스를 만들고, `call` 메소드에 사용자의 요구에 맞는 포워드 패스 과정을 구현하여 모델을 만들 수도 있습니다.\n",
        "\n",
        "다음은 Model의 하위 클래스로서 만들어진 간단한 다층 퍼셉트론의 예제입니다."
      ]
    },
    {
      "cell_type": "code",
      "metadata": {
        "id": "pf-JGxg3BDd2",
        "colab_type": "code",
        "colab": {}
      },
      "source": [
        "import keras\n",
        "\n",
        "class SimpleMLP(keras.Model):\n",
        "\n",
        "    def __init__(self, use_bn=False, use_dp=False, num_classes=10):\n",
        "        super(SimpleMLP, self).__init__(name='mlp')\n",
        "        self.use_bn = use_bn\n",
        "        self.use_dp = use_dp\n",
        "        self.num_classes = num_classes\n",
        "\n",
        "        self.dense1 = keras.layers.Dense(32, activation='relu')\n",
        "        self.dense2 = keras.layers.Dense(num_classes, activation='softmax')\n",
        "        if self.use_dp:\n",
        "            self.dp = keras.layers.Dropout(0.5)\n",
        "        if self.use_bn:\n",
        "            self.bn = keras.layers.BatchNormalization(axis=-1)\n",
        "\n",
        "    def call(self, inputs):\n",
        "        x = self.dense1(inputs)\n",
        "        if self.use_dp:\n",
        "            x = self.dp(x)\n",
        "        if self.use_bn:\n",
        "            x = self.bn(x)\n",
        "        return self.dense2(x)\n",
        "\n",
        "model = SimpleMLP()\n",
        "model.compile(...)\n",
        "model.fit(...)"
      ],
      "execution_count": null,
      "outputs": []
    },
    {
      "cell_type": "markdown",
      "metadata": {
        "id": "Ff5f64oGBXOS",
        "colab_type": "text"
      },
      "source": [
        "모델에 사용되는 각 층은 __init__(self, ...)에 정의되어 있고, 포워드 패스는 call(self, inputs)에 구현되어 있습니다. 임의의 층을 지정해 주는 것과 같이 사용자는 call 내부에서 self.add_loss(loss_tensor)를 호출함으로써 임의의 손실 함수를 지정해줄 수도 있습니다.\n",
        "\n",
        "하지만, 위와 같이 모델을 구현할 때 모델의 구조는 정적 그래프가 아닌 Python 코드로서 정의되기 때문에, 모델의 구조를 확인하거나 저장할 수 없습니다. 결과적으로 해당 API를 사용하여 모델을 구현한 경우 다음의 메소드들과 속성들을 사용할 수 없습니다.\n",
        "\n",
        "- `model.inputs` 그리고 `model.outputs`.\n",
        "- `model.to_yaml()` 그리고 `model.to_json()`\n",
        "- `model.get_config()` 그리고 `model.save()`.\n",
        "\n",
        "중요한 점: 작업에 적합한 API를 사용해야 합니다. Model 클래스의 하위 클래스를 만드는 API는 복잡한 모델을 구현하는데 있어서 높은 유연성을 제공해 줄 수는 있지만, 코드가 좀 더 길고 복잡해지며, 사용자 오류의 소지가 높아진다는 단점이 있습니다. 가능하면 사용자 친화적인 함수형 API를 사용하는 것이 좋습니다."
      ]
    }
  ]
}
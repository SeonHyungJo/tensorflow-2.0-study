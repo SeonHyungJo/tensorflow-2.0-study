{
  "nbformat": 4,
  "nbformat_minor": 0,
  "metadata": {
    "colab": {
      "name": "시작하기: 30초 케라스.ipynb",
      "provenance": [],
      "collapsed_sections": [],
      "authorship_tag": "ABX9TyMp9e6Gf9WqrHmWT+AIWPbq",
      "include_colab_link": true
    },
    "kernelspec": {
      "name": "python3",
      "display_name": "Python 3"
    }
  },
  "cells": [
    {
      "cell_type": "markdown",
      "metadata": {
        "id": "view-in-github",
        "colab_type": "text"
      },
      "source": [
        "<a href=\"https://colab.research.google.com/github/SeonHyungJo/tensorflow-2.0-study/blob/master/Keras%20Docs/%EC%8B%9C%EC%9E%91%ED%95%98%EA%B8%B0_30%EC%B4%88_%EC%BC%80%EB%9D%BC%EC%8A%A4.ipynb\" target=\"_parent\"><img src=\"https://colab.research.google.com/assets/colab-badge.svg\" alt=\"Open In Colab\"/></a>"
      ]
    },
    {
      "cell_type": "markdown",
      "metadata": {
        "id": "QWR7hirIZ9q8",
        "colab_type": "text"
      },
      "source": [
        "model로 레이어를 조직하는 방식?\n",
        "\n",
        "Sequential 모델은 레이어를 선형적으로 쌓는 것\n",
        "보다 더 복잡한 방법은 다른 방법으로?"
      ]
    },
    {
      "cell_type": "code",
      "metadata": {
        "id": "F6Lipu-_aSMX",
        "colab_type": "code",
        "colab": {}
      },
      "source": [
        "from keras.models import Sequential\n",
        "\n",
        "model = Sequential()"
      ],
      "execution_count": null,
      "outputs": []
    },
    {
      "cell_type": "markdown",
      "metadata": {
        "id": "cZ6RXgaoaYJh",
        "colab_type": "text"
      },
      "source": [
        ".add()를 사용해서 레이어를 쌓는다."
      ]
    },
    {
      "cell_type": "code",
      "metadata": {
        "id": "H7BS1yQkaWwB",
        "colab_type": "code",
        "colab": {}
      },
      "source": [
        "from keras.layers import Dense\n",
        "\n",
        "model.add(Dense(units=64, activation='relu', input_dim=100))\n",
        "model.add(Dense(units=10, activation='softmax'))"
      ],
      "execution_count": null,
      "outputs": []
    },
    {
      "cell_type": "markdown",
      "metadata": {
        "id": "8ukPza9za2Mr",
        "colab_type": "text"
      },
      "source": [
        "모델을 구성했으면 .compile()로 학습과정을 조정한다."
      ]
    },
    {
      "cell_type": "code",
      "metadata": {
        "id": "yepV5nE7a7cm",
        "colab_type": "code",
        "colab": {}
      },
      "source": [
        "model.compile(loss='categorical_crossentropy',\n",
        "              optimizer='sgd',\n",
        "              metrics=['accuracy'])"
      ],
      "execution_count": null,
      "outputs": []
    },
    {
      "cell_type": "markdown",
      "metadata": {
        "id": "fxzX7n3hbBEf",
        "colab_type": "text"
      },
      "source": [
        "옵티마이저도 조정할 수 있다."
      ]
    },
    {
      "cell_type": "code",
      "metadata": {
        "id": "mIfuZ4VNbC-5",
        "colab_type": "code",
        "colab": {}
      },
      "source": [
        "model.compile(loss=keras.losses.categorical_crossentropy,\n",
        "              optimizer=keras.optimizers.SGD(lr=0.01, momentum=0.9, nesterov=True))"
      ],
      "execution_count": null,
      "outputs": []
    },
    {
      "cell_type": "code",
      "metadata": {
        "id": "kTfaaIhHbII1",
        "colab_type": "code",
        "colab": {}
      },
      "source": [
        "model.fit(x_train, y_train, epochs=5, batch_size=32)"
      ],
      "execution_count": null,
      "outputs": []
    },
    {
      "cell_type": "markdown",
      "metadata": {
        "id": "OjyI8mHVbdPL",
        "colab_type": "text"
      },
      "source": [
        "수동으로 배치를 할 수 있다."
      ]
    },
    {
      "cell_type": "code",
      "metadata": {
        "id": "-s8zITnvbf6U",
        "colab_type": "code",
        "colab": {}
      },
      "source": [
        "model.train_on_batch(x_batch, y_batch)"
      ],
      "execution_count": null,
      "outputs": []
    },
    {
      "cell_type": "markdown",
      "metadata": {
        "id": "A7sGYPSHbi1b",
        "colab_type": "text"
      },
      "source": [
        "성능평가는 아래처럼"
      ]
    },
    {
      "cell_type": "code",
      "metadata": {
        "id": "XHeG4WGvbliF",
        "colab_type": "code",
        "colab": {}
      },
      "source": [
        "loss_and_metrics = model.evaluate(x_test, y_test, batch_size=128)"
      ],
      "execution_count": null,
      "outputs": []
    },
    {
      "cell_type": "markdown",
      "metadata": {
        "id": "2HxSUeOZb01N",
        "colab_type": "text"
      },
      "source": [
        "예측 결과를 생성"
      ]
    },
    {
      "cell_type": "code",
      "metadata": {
        "id": "mwP9duzJb6By",
        "colab_type": "code",
        "colab": {}
      },
      "source": [
        "classes = model.predict(x_test, batch_size=128)"
      ],
      "execution_count": null,
      "outputs": []
    },
    {
      "cell_type": "markdown",
      "metadata": {
        "id": "g6sg5wQwcLcy",
        "colab_type": "text"
      },
      "source": [
        ""
      ]
    }
  ]
}
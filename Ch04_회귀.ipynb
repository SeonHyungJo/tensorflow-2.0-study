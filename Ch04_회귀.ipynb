{
  "nbformat": 4,
  "nbformat_minor": 0,
  "metadata": {
    "colab": {
      "name": "Ch04 회귀.ipynb",
      "provenance": [],
      "authorship_tag": "ABX9TyPErjk10CrAyVfRLrL1C40a",
      "include_colab_link": true
    },
    "kernelspec": {
      "name": "python3",
      "display_name": "Python 3"
    }
  },
  "cells": [
    {
      "cell_type": "markdown",
      "metadata": {
        "id": "view-in-github",
        "colab_type": "text"
      },
      "source": [
        "<a href=\"https://colab.research.google.com/github/SeonHyungJo/tensorflow-2.0-study/blob/master/Ch04_%ED%9A%8C%EA%B7%80.ipynb\" target=\"_parent\"><img src=\"https://colab.research.google.com/assets/colab-badge.svg\" alt=\"Open In Colab\"/></a>"
      ]
    },
    {
      "cell_type": "code",
      "metadata": {
        "id": "GFl3X9UsgSwE",
        "colab_type": "code",
        "colab": {
          "base_uri": "https://localhost:8080/",
          "height": 313
        },
        "outputId": "b85adc1c-c334-439b-d62f-fcfcf5fd8828"
      },
      "source": [
        "# 지역별 인구 증가율과 고령인구비율 시각화\n",
        "import matplotlib.pyplot as plt\n",
        "\n",
        "population_inc = [0.3, -0.78, 1.26, 0.03, 1.11, 15.17, 0.24, -0.24, -0.47, -0.77, -0.37, -0.85, -0.41, -0.27, 0.02, -0.76, 2.66]\n",
        "pupulation_old = [12.27, 14.44, 11.87, 18.75, 17.52, 9.29, 16.37, 19.78, 19.51, 12.65, 14.74, 10.72, 21.94, 12.83, 15.51, 17.14, 14.42]\n",
        "\n",
        "print(len(population_inc))\n",
        "print(len(pupulation_old))\n",
        "\n",
        "plt.plot(population_inc, pupulation_old, 'bo')\n",
        "plt.xlabel('Population Growth Rate')\n",
        "plt.ylabel('Elderly Population Rate')\n",
        "plt.show()"
      ],
      "execution_count": null,
      "outputs": [
        {
          "output_type": "stream",
          "text": [
            "17\n",
            "17\n"
          ],
          "name": "stdout"
        },
        {
          "output_type": "display_data",
          "data": {
            "image/png": "[encoded data removed]",
            "text/plain": [
              "<Figure size 432x288 with 1 Axes>"
            ]
          },
          "metadata": {
            "tags": [],
            "needs_background": "light"
          }
        }
      ]
    },
    {
      "cell_type": "code",
      "metadata": {
        "id": "OxIxwuIviOMd",
        "colab_type": "code",
        "colab": {
          "base_uri": "https://localhost:8080/",
          "height": 279
        },
        "outputId": "e8eea293-02aa-43ec-e58b-6f7e4ea9f441"
      },
      "source": [
        "# 극단치 제거\n",
        "import matplotlib.pyplot as plt\n",
        "\n",
        "population_inc = [0.3, -0.78, 1.26, 0.03, 1.11, 15.17, 0.24, -0.24, -0.47, -0.77, -0.37, -0.85, -0.41, -0.27, 0.02, -0.76, 2.66]\n",
        "population_inc = population_inc[:5] + population_inc[6:]\n",
        "pupulation_old = [12.27, 14.44, 11.87, 18.75, 17.52, 9.29, 16.37, 19.78, 19.51, 12.65, 14.74, 10.72, 21.94, 12.83, 15.51, 17.14, 14.42]\n",
        "pupulation_old = pupulation_old[:5] + pupulation_old[6:]\n",
        "\n",
        "plt.plot(population_inc, pupulation_old, 'bo')\n",
        "plt.xlabel('Population Growth Rate')\n",
        "plt.ylabel('Elderly Population Rate')\n",
        "plt.show()"
      ],
      "execution_count": null,
      "outputs": [
        {
          "output_type": "display_data",
          "data": {
            "image/png": "[encoded data removed]",
            "text/plain": [
              "<Figure size 432x288 with 1 Axes>"
            ]
          },
          "metadata": {
            "tags": [],
            "needs_background": "light"
          }
        }
      ]
    },
    {
      "cell_type": "code",
      "metadata": {
        "id": "gHew9sT_ixJc",
        "colab_type": "code",
        "colab": {
          "base_uri": "https://localhost:8080/",
          "height": 296
        },
        "outputId": "b8a94f92-1bb3-4064-df03-c02ed6e3f8e5"
      },
      "source": [
        "import numpy as np\n",
        "import matplotlib.pyplot as plt\n",
        "X = [0.3, -0.78, 1.26, 0.03, 1.11, 15.17, 0.24, -0.24, -0.47, -0.77, -0.37, -0.85, -0.41, -0.27, 0.02, -0.76, 2.66]\n",
        "X = X[:5] + X[6:]\n",
        "Y = [12.27, 14.44, 11.87, 18.75, 17.52, 9.29, 16.37, 19.78, 19.51, 12.65, 14.74, 10.72, 21.94, 12.83, 15.51, 17.14, 14.42]\n",
        "Y = Y[:5] + Y[6:]\n",
        "\n",
        "# X Y의 평균을 구합니다.\n",
        "x_bar = sum(X) / len(X)\n",
        "y_bar = sum(Y) / len(Y)\n",
        "\n",
        "# 최소제곱법으로 a,b를 구합니다.\n",
        "a = sum([(y - y_bar) * (x - x_bar) for y, x in list(zip(Y, X))])\n",
        "a /= sum([(x - x_bar) ** 2 for x in X])\n",
        "b = y_bar - a * x_bar\n",
        "print('a: ', a, 'b: ', b)\n",
        "\n",
        "# 그래프를 그리기 위해 회귀선의 x, y 데이터를 구합니다.\n",
        "line_x = np.arange(min(X), max(X), 0.01)\n",
        "line_y = a * line_x + b\n",
        "\n",
        "# 붉은색 실선으로 회궈선을 그립니다.\n",
        "plt.plot(line_x, line_y, 'r-')\n",
        "\n",
        "plt.plot(X, Y, 'bo')\n",
        "plt.xlabel('Population Growth Rate (%)')\n",
        "plt.ylabel('Elderly Population Rate (%)')\n",
        "plt.show()"
      ],
      "execution_count": null,
      "outputs": [
        {
          "output_type": "stream",
          "text": [
            "a:  -0.355834147915461 b:  15.669317743971302\n"
          ],
          "name": "stdout"
        },
        {
          "output_type": "display_data",
          "data": {
            "image/png": "[encoded data removed]",
            "text/plain": [
              "<Figure size 432x288 with 1 Axes>"
            ]
          },
          "metadata": {
            "tags": [],
            "needs_background": "light"
          }
        }
      ]
    },
    {
      "cell_type": "code",
      "metadata": {
        "id": "mw4GWfKDl9km",
        "colab_type": "code",
        "colab": {
          "base_uri": "https://localhost:8080/",
          "height": 449
        },
        "outputId": "3ac55b01-bb24-42d7-96d5-a62d04ccd8d1"
      },
      "source": [
        "# 텐서플로를 이용해 2차함수 회귀선 구하기\n",
        "import tensorflow as tf\n",
        "import numpy as np\n",
        "import matplotlib.pyplot as plt\n",
        "import random\n",
        "X = [0.3, -0.78, 1.26, 0.03, 1.11, 15.17, 0.24, -0.24, -0.47, -0.77, -0.37, -0.85, -0.41, -0.27, 0.02, -0.76, 2.66]\n",
        "X = X[:5] + X[6:]\n",
        "Y = [12.27, 14.44, 11.87, 18.75, 17.52, 9.29, 16.37, 19.78, 19.51, 12.65, 14.74, 10.72, 21.94, 12.83, 15.51, 17.14, 14.42]\n",
        "Y = Y[:5] + Y[6:]\n",
        "\n",
        "# a b c를 랜덤한 값으로 초기화합니다.\n",
        "a = tf.Variable(random.random())\n",
        "b = tf.Variable(random.random())\n",
        "c = tf.Variable(random.random())\n",
        "\n",
        "# 잔차의 제곱의 평균을 반환하는 함수합니다.\n",
        "def compute_loss():\n",
        "  y_pred = a * X * X + b * X + c\n",
        "  loss = tf.reduce_mean((Y-y_pred) ** 2)\n",
        "  return loss\n",
        "\n",
        "optimizer = tf.keras.optimizers.Adam(lr=0.07)\n",
        "\n",
        "for i in range(1000):\n",
        "  # 잔차의 제곱의 평균을 최소화합니다.\n",
        "  optimizer.minimize(compute_loss, var_list=[a,b,c])\n",
        "\n",
        "  if i % 100 == 99 :\n",
        "    print(i, 'a: ', a.numpy(), 'b: ', b.numpy(), 'c: ', c.numpy(), 'loss: ', compute_loss().numpy())\n",
        "\n",
        "line_x = np.arange(min(X), max(X), 0.01)\n",
        "line_y = a * line_x * line_x + b * line_x + c\n",
        "\n",
        "\n",
        "plt.plot(line_x, line_y, 'r-')\n",
        "plt.plot(X, Y, 'bo')\n",
        "plt.xlabel('Population Growth Rate (%)')\n",
        "plt.ylabel('Elderly Population Rate (%)')\n",
        "plt.show()"
      ],
      "execution_count": null,
      "outputs": [
        {
          "output_type": "stream",
          "text": [
            "99 a:  3.8163548 b:  -5.164827 c:  6.183469 loss:  72.417305\n",
            "199 a:  2.8602295 b:  -4.8079715 c:  10.135657 loss:  32.79447\n",
            "299 a:  1.3987924 b:  -2.6052587 c:  12.782659 loss:  16.763525\n",
            "399 a:  0.4085194 b:  -1.0516987 c:  14.455844 loss:  11.25021\n",
            "499 a:  -0.13798092 b:  -0.19356413 c:  15.378323 loss:  9.801094\n",
            "599 a:  -0.39921552 b:  0.21658498 c:  15.819455 loss:  9.507972\n",
            "699 a:  -0.50803274 b:  0.38742968 c:  16.00322 loss:  9.462182\n",
            "799 a:  -0.5475982 b:  0.44954684 c:  16.070038 loss:  9.456661\n",
            "899 a:  -0.56014484 b:  0.469246 c:  16.091225 loss:  9.456149\n",
            "999 a:  -0.56360465 b:  0.47467825 c:  16.097067 loss:  9.456113\n"
          ],
          "name": "stdout"
        },
        {
          "output_type": "display_data",
          "data": {
            "image/png": "[encoded data removed]",
            "text/plain": [
              "<Figure size 432x288 with 1 Axes>"
            ]
          },
          "metadata": {
            "tags": [],
            "needs_background": "light"
          }
        }
      ]
    },
    {
      "cell_type": "code",
      "metadata": {
        "id": "UjACKbD7oLCe",
        "colab_type": "code",
        "colab": {
          "base_uri": "https://localhost:8080/",
          "height": 449
        },
        "outputId": "f7bea99b-c942-4758-9686-426fbde0073c"
      },
      "source": [
        "# 텐서플로를 이용해 3차함수 회귀선 구하기\n",
        "import tensorflow as tf\n",
        "import numpy as np\n",
        "import matplotlib.pyplot as plt\n",
        "import random\n",
        "X = [0.3, -0.78, 1.26, 0.03, 1.11, 15.17, 0.24, -0.24, -0.47, -0.77, -0.37, -0.85, -0.41, -0.27, 0.02, -0.76, 2.66]\n",
        "X = X[:5] + X[6:]\n",
        "Y = [12.27, 14.44, 11.87, 18.75, 17.52, 9.29, 16.37, 19.78, 19.51, 12.65, 14.74, 10.72, 21.94, 12.83, 15.51, 17.14, 14.42]\n",
        "Y = Y[:5] + Y[6:]\n",
        "\n",
        "# a b c d를 랜덤한 값으로 초기화합니다.\n",
        "a = tf.Variable(random.random())\n",
        "b = tf.Variable(random.random())\n",
        "c = tf.Variable(random.random())\n",
        "d = tf.Variable(random.random())\n",
        "\n",
        "# 잔차의 제곱의 평균을 반환하는 함수합니다.\n",
        "def compute_loss():\n",
        "  y_pred = a * X*X*X + b * X*X + c * X + d\n",
        "  loss = tf.reduce_mean((Y-y_pred) ** 2)\n",
        "  return loss\n",
        "\n",
        "optimizer = tf.keras.optimizers.Adam(lr=0.07)\n",
        "\n",
        "for i in range(1000):\n",
        "  # 잔차의 제곱의 평균을 최소화합니다.\n",
        "  optimizer.minimize(compute_loss, var_list=[a,b,c,d])\n",
        "\n",
        "  if i % 100 == 99 :\n",
        "    print(i, 'a: ', a.numpy(), 'b: ', b.numpy(), 'c: ', c.numpy(), 'd: ', d.numpy(), 'loss: ', compute_loss().numpy())\n",
        "\n",
        "line_x = np.arange(min(X), max(X), 0.01)\n",
        "line_y = a * line_x * line_x * line_x + b * line_x * line_x + c * line_x + d\n",
        "\n",
        "\n",
        "plt.plot(line_x, line_y, 'r-')\n",
        "plt.plot(X, Y, 'bo')\n",
        "plt.xlabel('Population Growth Rate (%)')\n",
        "plt.ylabel('Elderly Population Rate (%)')\n",
        "plt.show()"
      ],
      "execution_count": null,
      "outputs": [
        {
          "output_type": "stream",
          "text": [
            "99 a:  -1.4404571 b:  6.5401683 c:  -3.6625159 d:  6.166443 loss:  64.234276\n",
            "199 a:  -2.1345124 b:  7.291385 c:  -2.37322 d:  9.717239 loss:  32.23188\n",
            "299 a:  -1.7577393 b:  5.4042163 c:  -1.0027775 d:  11.922038 loss:  20.901611\n",
            "399 a:  -0.9908149 b:  2.9763622 c:  -0.578886 d:  13.496202 loss:  14.595831\n",
            "499 a:  -0.25812274 b:  0.82644796 c:  -0.46923044 d:  14.680419 loss:  11.059204\n",
            "599 a:  0.31492212 b:  -0.8294439 c:  -0.42753726 d:  15.556849 loss:  9.28032\n",
            "699 a:  0.7228786 b:  -2.0049086 c:  -0.40356407 d:  16.173805 loss:  8.483803\n",
            "799 a:  0.9941433 b:  -2.7860794 c:  -0.3883334 d:  16.58305 loss:  8.165852\n",
            "899 a:  1.1635789 b:  -3.2739415 c:  -0.37892926 d:  16.8385 loss:  8.052681\n",
            "999 a:  1.2631049 b:  -3.5604975 c:  -0.37342405 d:  16.988522 loss:  8.016794\n"
          ],
          "name": "stdout"
        },
        {
          "output_type": "display_data",
          "data": {
            "image/png": "[encoded data removed]",
            "text/plain": [
              "<Figure size 432x288 with 1 Axes>"
            ]
          },
          "metadata": {
            "tags": [],
            "needs_background": "light"
          }
        }
      ]
    },
    {
      "cell_type": "code",
      "metadata": {
        "id": "pBra6J9xpYk3",
        "colab_type": "code",
        "colab": {
          "base_uri": "https://localhost:8080/",
          "height": 221
        },
        "outputId": "2babdfd7-c429-47a9-a0bc-d3e954fe687a"
      },
      "source": [
        "# 딥러닝 네트워크를 이용한 회귀\n",
        "import tensorflow as tf\n",
        "import numpy as np\n",
        "X = [0.3, -0.78, 1.26, 0.03, 1.11, 15.17, 0.24, -0.24, -0.47, -0.77, -0.37, -0.85, -0.41, -0.27, 0.02, -0.76, 2.66]\n",
        "X = X[:5] + X[6:]\n",
        "Y = [12.27, 14.44, 11.87, 18.75, 17.52, 9.29, 16.37, 19.78, 19.51, 12.65, 14.74, 10.72, 21.94, 12.83, 15.51, 17.14, 14.42]\n",
        "Y = Y[:5] + Y[6:]\n",
        "\n",
        "model = tf.keras.Sequential([\n",
        "  tf.keras.layers.Dense(units=6, activation='tanh', input_shape=(1,)),\n",
        "  tf.keras.layers.Dense(units=1)\n",
        "])\n",
        "\n",
        "model.compile(optimizer=tf.keras.optimizers.SGD(lr=0.1), loss='mse')\n",
        "\n",
        "model.summary()"
      ],
      "execution_count": null,
      "outputs": [
        {
          "output_type": "stream",
          "text": [
            "Model: \"sequential_1\"\n",
            "_________________________________________________________________\n",
            "Layer (type)                 Output Shape              Param #   \n",
            "=================================================================\n",
            "dense_2 (Dense)              (None, 6)                 12        \n",
            "_________________________________________________________________\n",
            "dense_3 (Dense)              (None, 1)                 7         \n",
            "=================================================================\n",
            "Total params: 19\n",
            "Trainable params: 19\n",
            "Non-trainable params: 0\n",
            "_________________________________________________________________\n"
          ],
          "name": "stdout"
        }
      ]
    },
    {
      "cell_type": "code",
      "metadata": {
        "id": "Mp4vg02RqOwF",
        "colab_type": "code",
        "colab": {
          "base_uri": "https://localhost:8080/",
          "height": 374
        },
        "outputId": "78661335-a271-449e-eb13-f944b01ce38b"
      },
      "source": [
        "model.fit(X, Y, epochs=10)"
      ],
      "execution_count": null,
      "outputs": [
        {
          "output_type": "stream",
          "text": [
            "Epoch 1/10\n",
            "1/1 [==============================] - 0s 2ms/step - loss: 8.8928\n",
            "Epoch 2/10\n",
            "1/1 [==============================] - 0s 1ms/step - loss: 8.8554\n",
            "Epoch 3/10\n",
            "1/1 [==============================] - 0s 2ms/step - loss: 8.8189\n",
            "Epoch 4/10\n",
            "1/1 [==============================] - 0s 1ms/step - loss: 8.7830\n",
            "Epoch 5/10\n",
            "1/1 [==============================] - 0s 1ms/step - loss: 8.7476\n",
            "Epoch 6/10\n",
            "1/1 [==============================] - 0s 1ms/step - loss: 8.7124\n",
            "Epoch 7/10\n",
            "1/1 [==============================] - 0s 1ms/step - loss: 8.6772\n",
            "Epoch 8/10\n",
            "1/1 [==============================] - 0s 969us/step - loss: 8.6418\n",
            "Epoch 9/10\n",
            "1/1 [==============================] - 0s 939us/step - loss: 8.6060\n",
            "Epoch 10/10\n",
            "1/1 [==============================] - 0s 1ms/step - loss: 8.5697\n"
          ],
          "name": "stdout"
        },
        {
          "output_type": "execute_result",
          "data": {
            "text/plain": [
              "<tensorflow.python.keras.callbacks.History at 0x7fc55e7a0dd8>"
            ]
          },
          "metadata": {
            "tags": []
          },
          "execution_count": 18
        }
      ]
    },
    {
      "cell_type": "code",
      "metadata": {
        "id": "0q8TdaMiqYIV",
        "colab_type": "code",
        "colab": {
          "base_uri": "https://localhost:8080/",
          "height": 289
        },
        "outputId": "3612e778-25ac-414c-eea2-0328824e7ed3"
      },
      "source": [
        "model.predict(X)"
      ],
      "execution_count": null,
      "outputs": [
        {
          "output_type": "execute_result",
          "data": {
            "text/plain": [
              "array([[16.202518 ],\n",
              "       [15.104799 ],\n",
              "       [14.575155 ],\n",
              "       [16.509638 ],\n",
              "       [14.714098 ],\n",
              "       [16.299393 ],\n",
              "       [16.419691 ],\n",
              "       [16.008305 ],\n",
              "       [15.1368065],\n",
              "       [16.222736 ],\n",
              "       [14.880983 ],\n",
              "       [16.143118 ],\n",
              "       [16.382929 ],\n",
              "       [16.513903 ],\n",
              "       [15.168774 ],\n",
              "       [14.242949 ]], dtype=float32)"
            ]
          },
          "metadata": {
            "tags": []
          },
          "execution_count": 19
        }
      ]
    },
    {
      "cell_type": "code",
      "metadata": {
        "id": "T6eWCejWqcMG",
        "colab_type": "code",
        "colab": {
          "base_uri": "https://localhost:8080/",
          "height": 279
        },
        "outputId": "69217573-4352-4ec8-bcbb-c90fe406cb79"
      },
      "source": [
        "# 딥러닝 네트워크의 회권 그래프\n",
        "import matplotlib.pyplot as plt\n",
        "\n",
        "line_x = np.arange(min(X), max(X), 0.01)\n",
        "line_y = model.predict(line_x)\n",
        "\n",
        "plt.plot(line_x, line_y, 'r-')\n",
        "plt.plot(X,Y,'bo')\n",
        "plt.xlabel('Population Growth Rate (%)')\n",
        "plt.ylabel('Elderly Population Rate (%)')\n",
        "plt.show()"
      ],
      "execution_count": null,
      "outputs": [
        {
          "output_type": "display_data",
          "data": {
            "image/png": "[encoded data removed]",
            "text/plain": [
              "<Figure size 432x288 with 1 Axes>"
            ]
          },
          "metadata": {
            "tags": [],
            "needs_background": "light"
          }
        }
      ]
    }
  ]
}
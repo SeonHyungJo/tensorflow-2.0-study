{
  "nbformat": 4,
  "nbformat_minor": 0,
  "metadata": {
    "colab": {
      "name": "Ch07 순환 신경망.ipynb",
      "provenance": [],
      "collapsed_sections": [],
      "authorship_tag": "ABX9TyOBuH9qrYOWAg/GMFGyPQKh",
      "include_colab_link": true
    },
    "kernelspec": {
      "name": "python3",
      "display_name": "Python 3"
    },
    "accelerator": "GPU"
  },
  "cells": [
    {
      "cell_type": "markdown",
      "metadata": {
        "id": "view-in-github",
        "colab_type": "text"
      },
      "source": [
        "<a href=\"https://colab.research.google.com/github/SeonHyungJo/tensorflow-2.0-study/blob/master/%ED%85%90%EC%84%9C%ED%94%8C%EB%A1%9C_2.0_%ED%94%84%EB%A1%9C%EA%B7%B8%EB%9E%98%EB%B0%8D/Ch07_%EC%88%9C%ED%99%98_%EC%8B%A0%EA%B2%BD%EB%A7%9D.ipynb\" target=\"_parent\"><img src=\"https://colab.research.google.com/assets/colab-badge.svg\" alt=\"Open In Colab\"/></a>"
      ]
    },
    {
      "cell_type": "code",
      "metadata": {
        "id": "SZewMV74PYOf",
        "colab_type": "code",
        "colab": {
          "base_uri": "https://localhost:8080/",
          "height": 527
        },
        "outputId": "d1a2eb5e-b4d5-461d-bf49-696978a1e590"
      },
      "source": [
        "import tensorflow as tf\n",
        "import numpy as np\n",
        "\n",
        "# 신경망 예측 데이터 생성\n",
        "X = []\n",
        "Y = []\n",
        "\n",
        "for i in range(6):\n",
        "  #  [0,1,2,3], [1,2,3,4] 같은 정수의 시퀀스를 만든다.\n",
        "  lst = list(range(i,i+4))\n",
        "\n",
        "  print('lst', lst)\n",
        "\n",
        "  # 위에서 구한 시퀀스의 숫자들을 각각 10으로 나눈 다음 저장한다.\n",
        "  # SimpleRNN에 각 타임스텝에 하나씩 숫자가 들어가기 때문에 여기서도 하나씩 분리해서 배열에 저장한다.\n",
        "  X.append(list(map(lambda c: [c/10], lst)))\n",
        "\n",
        "  # 정답에 해당하는 4,5 등의 정수 역시 앞에서처럼 10으로 나누어서 저장한다.\n",
        "  Y.append((i+4)/10)\n",
        "\n",
        "X = np.array(X)\n",
        "Y = np.array(Y)\n",
        "for i in range(len(X)):\n",
        "  print(X[i], Y[i])"
      ],
      "execution_count": 3,
      "outputs": [
        {
          "output_type": "stream",
          "text": [
            "lst [0, 1, 2, 3]\n",
            "lst [1, 2, 3, 4]\n",
            "lst [2, 3, 4, 5]\n",
            "lst [3, 4, 5, 6]\n",
            "lst [4, 5, 6, 7]\n",
            "lst [5, 6, 7, 8]\n",
            "[[0. ]\n",
            " [0.1]\n",
            " [0.2]\n",
            " [0.3]] 0.4\n",
            "[[0.1]\n",
            " [0.2]\n",
            " [0.3]\n",
            " [0.4]] 0.5\n",
            "[[0.2]\n",
            " [0.3]\n",
            " [0.4]\n",
            " [0.5]] 0.6\n",
            "[[0.3]\n",
            " [0.4]\n",
            " [0.5]\n",
            " [0.6]] 0.7\n",
            "[[0.4]\n",
            " [0.5]\n",
            " [0.6]\n",
            " [0.7]] 0.8\n",
            "[[0.5]\n",
            " [0.6]\n",
            " [0.7]\n",
            " [0.8]] 0.9\n"
          ],
          "name": "stdout"
        }
      ]
    },
    {
      "cell_type": "code",
      "metadata": {
        "id": "yyYaKIDeQwgn",
        "colab_type": "code",
        "colab": {
          "base_uri": "https://localhost:8080/",
          "height": 221
        },
        "outputId": "873d2983-c4b3-482f-d90b-d601ca1d7b7d"
      },
      "source": [
        "# 시퀀스 예측 모델 정의\n",
        "model = tf.keras.Sequential([\n",
        "  tf.keras.layers.SimpleRNN(units=10, return_sequences=False, input_shape=[4,1]),\n",
        "  tf.keras.layers.Dense(1)\n",
        "])\n",
        "\n",
        "model.compile(optimizer='adam', loss='mse')\n",
        "model.summary()"
      ],
      "execution_count": 4,
      "outputs": [
        {
          "output_type": "stream",
          "text": [
            "Model: \"sequential\"\n",
            "_________________________________________________________________\n",
            "Layer (type)                 Output Shape              Param #   \n",
            "=================================================================\n",
            "simple_rnn (SimpleRNN)       (None, 10)                120       \n",
            "_________________________________________________________________\n",
            "dense (Dense)                (None, 1)                 11        \n",
            "=================================================================\n",
            "Total params: 131\n",
            "Trainable params: 131\n",
            "Non-trainable params: 0\n",
            "_________________________________________________________________\n"
          ],
          "name": "stdout"
        }
      ]
    },
    {
      "cell_type": "code",
      "metadata": {
        "id": "jTGs1OIORod8",
        "colab_type": "code",
        "colab": {
          "base_uri": "https://localhost:8080/",
          "height": 119
        },
        "outputId": "fcff6097-92b5-4805-c510-c22770a9a83e"
      },
      "source": [
        "# 네트워크 훈련 및 결과 확인\n",
        "model.fit(X, Y, epochs=100, verbose=0)\n",
        "print(model.predict(X))"
      ],
      "execution_count": 5,
      "outputs": [
        {
          "output_type": "stream",
          "text": [
            "[[0.35729402]\n",
            " [0.51261634]\n",
            " [0.63831216]\n",
            " [0.7341382 ]\n",
            " [0.80362856]\n",
            " [0.8517923 ]]\n"
          ],
          "name": "stdout"
        }
      ]
    },
    {
      "cell_type": "code",
      "metadata": {
        "id": "O8MLZkQ4SxB9",
        "colab_type": "code",
        "colab": {
          "base_uri": "https://localhost:8080/",
          "height": 51
        },
        "outputId": "7148be26-05aa-4b1e-d339-8fc926441299"
      },
      "source": [
        "# 학습되지 않은 시퀀스에 대한 예측 결과\n",
        "print(model.predict(np.array([[[0.6], [0.7], [0.8], [0.9]]])))\n",
        "print(model.predict(np.array([[[-0.1], [0.0], [0.1], [0.2]]])))"
      ],
      "execution_count": 6,
      "outputs": [
        {
          "output_type": "stream",
          "text": [
            "[[0.88361263]]\n",
            "[[0.17855123]]\n"
          ],
          "name": "stdout"
        }
      ]
    },
    {
      "cell_type": "code",
      "metadata": {
        "id": "dZPKnRc9W0_c",
        "colab_type": "code",
        "colab": {
          "base_uri": "https://localhost:8080/",
          "height": 1000
        },
        "outputId": "2510d6ae-5aab-4bbc-f319-5ebbed4531b0"
      },
      "source": [
        "# 곱셈 문제 데이터 생성\n",
        "X = []\n",
        "Y = []\n",
        "for i in range(3000):\n",
        "  # 0 ~ 1 범위의 랜덤한 숫자 100개를 만든다.\n",
        "  lst = np.random.rand(100)\n",
        "\n",
        "  # 마킹할 숫자 2개의 인덱스를 뽑는다.\n",
        "  idx = np.random.choice(100, 2, replace=False)\n",
        "\n",
        "  # 마킹 인덱스가 저장된 원=핫 인코딩 벡터를 만든다.\n",
        "  zeros = np.zeros(100)\n",
        "  zeros[idx] = 1\n",
        "\n",
        "  # 마킹 인덱스와 랜덤한 숫자를 햡쳐서 X에 저장합니다.\n",
        "  X.append(np.array(list(zip(zeros, lst)))) \n",
        "  # 마킹 인덱스가 1인 값만 서로 곱해서 Y에 저장합니다.\n",
        "  Y.append(np.prod(lst[idx]))\n",
        "\n",
        "print(X[0], Y[0])"
      ],
      "execution_count": 7,
      "outputs": [
        {
          "output_type": "stream",
          "text": [
            "[[0.         0.07406413]\n",
            " [0.         0.18620492]\n",
            " [0.         0.19019044]\n",
            " [0.         0.38005243]\n",
            " [0.         0.03554939]\n",
            " [0.         0.99490898]\n",
            " [0.         0.4560137 ]\n",
            " [1.         0.37330382]\n",
            " [0.         0.7916733 ]\n",
            " [0.         0.40139998]\n",
            " [0.         0.13435771]\n",
            " [0.         0.14136544]\n",
            " [0.         0.40936744]\n",
            " [0.         0.80662415]\n",
            " [0.         0.93874669]\n",
            " [0.         0.48410569]\n",
            " [0.         0.08701132]\n",
            " [0.         0.18880749]\n",
            " [0.         0.24296099]\n",
            " [0.         0.36903031]\n",
            " [0.         0.23310985]\n",
            " [0.         0.08697399]\n",
            " [0.         0.86492873]\n",
            " [0.         0.22366286]\n",
            " [0.         0.04831   ]\n",
            " [0.         0.32975171]\n",
            " [0.         0.8384756 ]\n",
            " [0.         0.67327374]\n",
            " [0.         0.15958238]\n",
            " [0.         0.5938906 ]\n",
            " [0.         0.711938  ]\n",
            " [0.         0.25506535]\n",
            " [0.         0.90858829]\n",
            " [0.         0.11533055]\n",
            " [0.         0.4241082 ]\n",
            " [0.         0.31393863]\n",
            " [0.         0.70403434]\n",
            " [0.         0.38263309]\n",
            " [0.         0.87087158]\n",
            " [0.         0.40318239]\n",
            " [0.         0.625822  ]\n",
            " [0.         0.93027875]\n",
            " [0.         0.36270674]\n",
            " [0.         0.42971623]\n",
            " [0.         0.67807267]\n",
            " [0.         0.928264  ]\n",
            " [0.         0.43735142]\n",
            " [0.         0.39136121]\n",
            " [0.         0.44576515]\n",
            " [0.         0.95959949]\n",
            " [0.         0.2538391 ]\n",
            " [0.         0.15618545]\n",
            " [0.         0.44744273]\n",
            " [0.         0.59275909]\n",
            " [0.         0.74070941]\n",
            " [0.         0.73570079]\n",
            " [0.         0.61234623]\n",
            " [0.         0.33347418]\n",
            " [0.         0.98112778]\n",
            " [0.         0.88465281]\n",
            " [0.         0.95874753]\n",
            " [0.         0.3115289 ]\n",
            " [0.         0.86161067]\n",
            " [0.         0.77249001]\n",
            " [0.         0.2888916 ]\n",
            " [0.         0.80984039]\n",
            " [0.         0.03415365]\n",
            " [0.         0.21171666]\n",
            " [0.         0.17060622]\n",
            " [0.         0.36745378]\n",
            " [0.         0.46538483]\n",
            " [0.         0.84776193]\n",
            " [0.         0.05467395]\n",
            " [0.         0.10934946]\n",
            " [0.         0.98081111]\n",
            " [0.         0.26871698]\n",
            " [0.         0.05900484]\n",
            " [0.         0.93560075]\n",
            " [0.         0.2988809 ]\n",
            " [0.         0.73924164]\n",
            " [0.         0.70910506]\n",
            " [1.         0.2136989 ]\n",
            " [0.         0.53902247]\n",
            " [0.         0.63997732]\n",
            " [0.         0.38282093]\n",
            " [0.         0.21698414]\n",
            " [0.         0.21680498]\n",
            " [0.         0.73274744]\n",
            " [0.         0.93215611]\n",
            " [0.         0.00811614]\n",
            " [0.         0.11913559]\n",
            " [0.         0.23440656]\n",
            " [0.         0.78890528]\n",
            " [0.         0.34017521]\n",
            " [0.         0.82109926]\n",
            " [0.         0.25788944]\n",
            " [0.         0.59994529]\n",
            " [0.         0.04240163]\n",
            " [0.         0.21456523]\n",
            " [0.         0.05166449]] 0.07977461506023413\n"
          ],
          "name": "stdout"
        }
      ]
    },
    {
      "cell_type": "code",
      "metadata": {
        "id": "Yawapz1-Xu_c",
        "colab_type": "code",
        "colab": {
          "base_uri": "https://localhost:8080/",
          "height": 221
        },
        "outputId": "e50d5c87-94bb-4609-ade2-cd1d269e787d"
      },
      "source": [
        "# SimpleRNN  레이어를 이용한 곱셈 문제 모델 정의\n",
        "model = tf.keras.Sequential([\n",
        " tf.keras.layers.SimpleRNN(units=30, return_sequences=True, input_shape=[100,2]),\n",
        " tf.keras.layers.SimpleRNN(units=30)\n",
        "])\n",
        "\n",
        "model.compile(optimizer='adam', loss='mse')\n",
        "model.summary()"
      ],
      "execution_count": 8,
      "outputs": [
        {
          "output_type": "stream",
          "text": [
            "Model: \"sequential_1\"\n",
            "_________________________________________________________________\n",
            "Layer (type)                 Output Shape              Param #   \n",
            "=================================================================\n",
            "simple_rnn_1 (SimpleRNN)     (None, 100, 30)           990       \n",
            "_________________________________________________________________\n",
            "simple_rnn_2 (SimpleRNN)     (None, 30)                1830      \n",
            "=================================================================\n",
            "Total params: 2,820\n",
            "Trainable params: 2,820\n",
            "Non-trainable params: 0\n",
            "_________________________________________________________________\n"
          ],
          "name": "stdout"
        }
      ]
    },
    {
      "cell_type": "code",
      "metadata": {
        "id": "oFyWkD6qYNTO",
        "colab_type": "code",
        "colab": {
          "base_uri": "https://localhost:8080/",
          "height": 1000
        },
        "outputId": "e2c2524c-0dea-4d57-d62f-868f181a4f75"
      },
      "source": [
        "# SimpleRNN 네트워크 학습\n",
        "X = np.array(X)\n",
        "Y = np.array(Y)\n",
        "\n",
        "history = model.fit(X[:2560], Y[:2560], epochs=100, validation_split=0.2)"
      ],
      "execution_count": 10,
      "outputs": [
        {
          "output_type": "stream",
          "text": [
            "Epoch 1/100\n",
            "64/64 [==============================] - 9s 142ms/step - loss: 0.1300 - val_loss: 0.0658\n",
            "Epoch 2/100\n",
            "64/64 [==============================] - 9s 136ms/step - loss: 0.0589 - val_loss: 0.0510\n",
            "Epoch 3/100\n",
            "64/64 [==============================] - 9s 136ms/step - loss: 0.0536 - val_loss: 0.0495\n",
            "Epoch 4/100\n",
            "64/64 [==============================] - 9s 143ms/step - loss: 0.0526 - val_loss: 0.0502\n",
            "Epoch 5/100\n",
            "64/64 [==============================] - 9s 138ms/step - loss: 0.0528 - val_loss: 0.0482\n",
            "Epoch 6/100\n",
            "64/64 [==============================] - 9s 137ms/step - loss: 0.0517 - val_loss: 0.0480\n",
            "Epoch 7/100\n",
            "64/64 [==============================] - 9s 137ms/step - loss: 0.0515 - val_loss: 0.0480\n",
            "Epoch 8/100\n",
            "64/64 [==============================] - 9s 136ms/step - loss: 0.0515 - val_loss: 0.0486\n",
            "Epoch 9/100\n",
            "64/64 [==============================] - 9s 139ms/step - loss: 0.0516 - val_loss: 0.0477\n",
            "Epoch 10/100\n",
            "64/64 [==============================] - 9s 139ms/step - loss: 0.0513 - val_loss: 0.0479\n",
            "Epoch 11/100\n",
            "64/64 [==============================] - 9s 138ms/step - loss: 0.0513 - val_loss: 0.0481\n",
            "Epoch 12/100\n",
            "64/64 [==============================] - 9s 138ms/step - loss: 0.0513 - val_loss: 0.0493\n",
            "Epoch 13/100\n",
            "64/64 [==============================] - 9s 137ms/step - loss: 0.0517 - val_loss: 0.0476\n",
            "Epoch 14/100\n",
            "64/64 [==============================] - 9s 147ms/step - loss: 0.0513 - val_loss: 0.0475\n",
            "Epoch 15/100\n",
            "64/64 [==============================] - 9s 138ms/step - loss: 0.0515 - val_loss: 0.0479\n",
            "Epoch 16/100\n",
            "64/64 [==============================] - 9s 138ms/step - loss: 0.0512 - val_loss: 0.0475\n",
            "Epoch 17/100\n",
            "64/64 [==============================] - 9s 137ms/step - loss: 0.0515 - val_loss: 0.0477\n",
            "Epoch 18/100\n",
            "64/64 [==============================] - 9s 139ms/step - loss: 0.0514 - val_loss: 0.0477\n",
            "Epoch 19/100\n",
            "64/64 [==============================] - 9s 138ms/step - loss: 0.0512 - val_loss: 0.0479\n",
            "Epoch 20/100\n",
            "64/64 [==============================] - 9s 135ms/step - loss: 0.0512 - val_loss: 0.0474\n",
            "Epoch 21/100\n",
            "64/64 [==============================] - 9s 136ms/step - loss: 0.0512 - val_loss: 0.0479\n",
            "Epoch 22/100\n",
            "64/64 [==============================] - 9s 135ms/step - loss: 0.0513 - val_loss: 0.0476\n",
            "Epoch 23/100\n",
            "64/64 [==============================] - 9s 135ms/step - loss: 0.0513 - val_loss: 0.0473\n",
            "Epoch 24/100\n",
            "64/64 [==============================] - 9s 133ms/step - loss: 0.0513 - val_loss: 0.0477\n",
            "Epoch 25/100\n",
            "64/64 [==============================] - 9s 135ms/step - loss: 0.0513 - val_loss: 0.0480\n",
            "Epoch 26/100\n",
            "64/64 [==============================] - 9s 134ms/step - loss: 0.0516 - val_loss: 0.0474\n",
            "Epoch 27/100\n",
            "64/64 [==============================] - 9s 133ms/step - loss: 0.0512 - val_loss: 0.0479\n",
            "Epoch 28/100\n",
            "64/64 [==============================] - 9s 133ms/step - loss: 0.0510 - val_loss: 0.0475\n",
            "Epoch 29/100\n",
            "64/64 [==============================] - 9s 135ms/step - loss: 0.0511 - val_loss: 0.0473\n",
            "Epoch 30/100\n",
            "64/64 [==============================] - 9s 135ms/step - loss: 0.0513 - val_loss: 0.0482\n",
            "Epoch 31/100\n",
            "64/64 [==============================] - 9s 136ms/step - loss: 0.0511 - val_loss: 0.0475\n",
            "Epoch 32/100\n",
            "64/64 [==============================] - 9s 133ms/step - loss: 0.0511 - val_loss: 0.0476\n",
            "Epoch 33/100\n",
            "64/64 [==============================] - 9s 135ms/step - loss: 0.0511 - val_loss: 0.0474\n",
            "Epoch 34/100\n",
            "64/64 [==============================] - 9s 135ms/step - loss: 0.0513 - val_loss: 0.0475\n",
            "Epoch 35/100\n",
            "64/64 [==============================] - 9s 134ms/step - loss: 0.0511 - val_loss: 0.0475\n",
            "Epoch 36/100\n",
            "64/64 [==============================] - 9s 136ms/step - loss: 0.0514 - val_loss: 0.0474\n",
            "Epoch 37/100\n",
            "64/64 [==============================] - 9s 134ms/step - loss: 0.0510 - val_loss: 0.0479\n",
            "Epoch 38/100\n",
            "64/64 [==============================] - 9s 138ms/step - loss: 0.0511 - val_loss: 0.0477\n",
            "Epoch 39/100\n",
            "64/64 [==============================] - 9s 136ms/step - loss: 0.0510 - val_loss: 0.0477\n",
            "Epoch 40/100\n",
            "64/64 [==============================] - 9s 135ms/step - loss: 0.0512 - val_loss: 0.0473\n",
            "Epoch 41/100\n",
            "64/64 [==============================] - 9s 134ms/step - loss: 0.0509 - val_loss: 0.0473\n",
            "Epoch 42/100\n",
            "64/64 [==============================] - 9s 134ms/step - loss: 0.0509 - val_loss: 0.0475\n",
            "Epoch 43/100\n",
            "64/64 [==============================] - 9s 134ms/step - loss: 0.0510 - val_loss: 0.0481\n",
            "Epoch 44/100\n",
            "64/64 [==============================] - 9s 136ms/step - loss: 0.0510 - val_loss: 0.0474\n",
            "Epoch 45/100\n",
            "64/64 [==============================] - 9s 134ms/step - loss: 0.0512 - val_loss: 0.0475\n",
            "Epoch 46/100\n",
            "64/64 [==============================] - 9s 135ms/step - loss: 0.0511 - val_loss: 0.0479\n",
            "Epoch 47/100\n",
            "64/64 [==============================] - 9s 135ms/step - loss: 0.0512 - val_loss: 0.0474\n",
            "Epoch 48/100\n",
            "64/64 [==============================] - 9s 134ms/step - loss: 0.0512 - val_loss: 0.0475\n",
            "Epoch 49/100\n",
            "64/64 [==============================] - 9s 143ms/step - loss: 0.0510 - val_loss: 0.0476\n",
            "Epoch 50/100\n",
            "64/64 [==============================] - 9s 139ms/step - loss: 0.0512 - val_loss: 0.0481\n",
            "Epoch 51/100\n",
            "64/64 [==============================] - 9s 135ms/step - loss: 0.0511 - val_loss: 0.0473\n",
            "Epoch 52/100\n",
            "64/64 [==============================] - 9s 134ms/step - loss: 0.0510 - val_loss: 0.0479\n",
            "Epoch 53/100\n",
            "64/64 [==============================] - 9s 135ms/step - loss: 0.0512 - val_loss: 0.0475\n",
            "Epoch 54/100\n",
            "64/64 [==============================] - 9s 134ms/step - loss: 0.0509 - val_loss: 0.0475\n",
            "Epoch 55/100\n",
            "64/64 [==============================] - 9s 133ms/step - loss: 0.0511 - val_loss: 0.0475\n",
            "Epoch 56/100\n",
            "64/64 [==============================] - 9s 135ms/step - loss: 0.0510 - val_loss: 0.0473\n",
            "Epoch 57/100\n",
            "64/64 [==============================] - 9s 135ms/step - loss: 0.0508 - val_loss: 0.0473\n",
            "Epoch 58/100\n",
            "64/64 [==============================] - 9s 136ms/step - loss: 0.0510 - val_loss: 0.0476\n",
            "Epoch 59/100\n",
            "64/64 [==============================] - 9s 135ms/step - loss: 0.0509 - val_loss: 0.0476\n",
            "Epoch 60/100\n",
            "64/64 [==============================] - 9s 136ms/step - loss: 0.0513 - val_loss: 0.0476\n",
            "Epoch 61/100\n",
            "64/64 [==============================] - 9s 134ms/step - loss: 0.0510 - val_loss: 0.0474\n",
            "Epoch 62/100\n",
            "64/64 [==============================] - 9s 134ms/step - loss: 0.0510 - val_loss: 0.0473\n",
            "Epoch 63/100\n",
            "64/64 [==============================] - 9s 135ms/step - loss: 0.0508 - val_loss: 0.0474\n",
            "Epoch 64/100\n",
            "64/64 [==============================] - 9s 134ms/step - loss: 0.0508 - val_loss: 0.0474\n",
            "Epoch 65/100\n",
            "64/64 [==============================] - 9s 136ms/step - loss: 0.0508 - val_loss: 0.0488\n",
            "Epoch 66/100\n",
            "64/64 [==============================] - 9s 136ms/step - loss: 0.0511 - val_loss: 0.0473\n",
            "Epoch 67/100\n",
            "64/64 [==============================] - 9s 134ms/step - loss: 0.0509 - val_loss: 0.0473\n",
            "Epoch 68/100\n",
            "64/64 [==============================] - 9s 133ms/step - loss: 0.0508 - val_loss: 0.0477\n",
            "Epoch 69/100\n",
            "64/64 [==============================] - 9s 135ms/step - loss: 0.0509 - val_loss: 0.0478\n",
            "Epoch 70/100\n",
            "64/64 [==============================] - 9s 134ms/step - loss: 0.0509 - val_loss: 0.0473\n",
            "Epoch 71/100\n",
            "64/64 [==============================] - 9s 134ms/step - loss: 0.0511 - val_loss: 0.0486\n",
            "Epoch 72/100\n",
            "64/64 [==============================] - 8s 133ms/step - loss: 0.0510 - val_loss: 0.0478\n",
            "Epoch 73/100\n",
            "64/64 [==============================] - 9s 139ms/step - loss: 0.0508 - val_loss: 0.0472\n",
            "Epoch 74/100\n",
            "64/64 [==============================] - 9s 135ms/step - loss: 0.0508 - val_loss: 0.0475\n",
            "Epoch 75/100\n",
            "64/64 [==============================] - 9s 137ms/step - loss: 0.0507 - val_loss: 0.0473\n",
            "Epoch 76/100\n",
            "64/64 [==============================] - 9s 138ms/step - loss: 0.0510 - val_loss: 0.0478\n",
            "Epoch 77/100\n",
            "64/64 [==============================] - 9s 137ms/step - loss: 0.0509 - val_loss: 0.0475\n",
            "Epoch 78/100\n",
            "64/64 [==============================] - 9s 138ms/step - loss: 0.0508 - val_loss: 0.0475\n",
            "Epoch 79/100\n",
            "64/64 [==============================] - 9s 137ms/step - loss: 0.0507 - val_loss: 0.0474\n",
            "Epoch 80/100\n",
            "64/64 [==============================] - 9s 137ms/step - loss: 0.0507 - val_loss: 0.0476\n",
            "Epoch 81/100\n",
            "64/64 [==============================] - 9s 138ms/step - loss: 0.0505 - val_loss: 0.0476\n",
            "Epoch 82/100\n",
            "64/64 [==============================] - 9s 139ms/step - loss: 0.0508 - val_loss: 0.0474\n",
            "Epoch 83/100\n",
            "64/64 [==============================] - 9s 138ms/step - loss: 0.0507 - val_loss: 0.0473\n",
            "Epoch 84/100\n",
            "64/64 [==============================] - 9s 144ms/step - loss: 0.0509 - val_loss: 0.0474\n",
            "Epoch 85/100\n",
            "64/64 [==============================] - 9s 143ms/step - loss: 0.0508 - val_loss: 0.0472\n",
            "Epoch 86/100\n",
            "64/64 [==============================] - 9s 135ms/step - loss: 0.0510 - val_loss: 0.0473\n",
            "Epoch 87/100\n",
            "64/64 [==============================] - 9s 136ms/step - loss: 0.0506 - val_loss: 0.0475\n",
            "Epoch 88/100\n",
            "64/64 [==============================] - 9s 135ms/step - loss: 0.0510 - val_loss: 0.0477\n",
            "Epoch 89/100\n",
            "64/64 [==============================] - 9s 135ms/step - loss: 0.0511 - val_loss: 0.0475\n",
            "Epoch 90/100\n",
            "64/64 [==============================] - 9s 136ms/step - loss: 0.0508 - val_loss: 0.0476\n",
            "Epoch 91/100\n",
            "64/64 [==============================] - 9s 136ms/step - loss: 0.0508 - val_loss: 0.0477\n",
            "Epoch 92/100\n",
            "64/64 [==============================] - 9s 136ms/step - loss: 0.0508 - val_loss: 0.0477\n",
            "Epoch 93/100\n",
            "64/64 [==============================] - 9s 136ms/step - loss: 0.0509 - val_loss: 0.0477\n",
            "Epoch 94/100\n",
            "64/64 [==============================] - 9s 136ms/step - loss: 0.0507 - val_loss: 0.0473\n",
            "Epoch 95/100\n",
            "64/64 [==============================] - 9s 135ms/step - loss: 0.0505 - val_loss: 0.0475\n",
            "Epoch 96/100\n",
            "64/64 [==============================] - 9s 134ms/step - loss: 0.0507 - val_loss: 0.0474\n",
            "Epoch 97/100\n",
            "64/64 [==============================] - 9s 133ms/step - loss: 0.0506 - val_loss: 0.0476\n",
            "Epoch 98/100\n",
            "64/64 [==============================] - 9s 135ms/step - loss: 0.0508 - val_loss: 0.0475\n",
            "Epoch 99/100\n",
            "64/64 [==============================] - 9s 135ms/step - loss: 0.0508 - val_loss: 0.0477\n",
            "Epoch 100/100\n",
            "64/64 [==============================] - 9s 135ms/step - loss: 0.0506 - val_loss: 0.0476\n"
          ],
          "name": "stdout"
        }
      ]
    },
    {
      "cell_type": "code",
      "metadata": {
        "id": "xyhvljWYYyKg",
        "colab_type": "code",
        "colab": {
          "base_uri": "https://localhost:8080/",
          "height": 232
        },
        "outputId": "02baad31-e840-4639-d375-5e52d7c6f44d"
      },
      "source": [
        "# SimpleRNN 네트워크 학습 결과 확인\n",
        "import matplotlib.pyplot as plt\n",
        "plt.plot(history.history['loss'], 'b-', label='loss')\n",
        "plt.plot(history.history['val_loss'], 'b-', label='val_loss')\n",
        "plt.xlabel('Epoch')\n",
        "plt.legend()\n",
        "plt.show()"
      ],
      "execution_count": 9,
      "outputs": [
        {
          "output_type": "error",
          "ename": "NameError",
          "evalue": "ignored",
          "traceback": [
            "\u001b[0;31m---------------------------------------------------------------------------\u001b[0m",
            "\u001b[0;31mNameError\u001b[0m                                 Traceback (most recent call last)",
            "\u001b[0;32m<ipython-input-9-fdccb0485fa4>\u001b[0m in \u001b[0;36m<module>\u001b[0;34m()\u001b[0m\n\u001b[1;32m      1\u001b[0m \u001b[0;31m# SimpleRNN 네트워크 학습 결과 확인\u001b[0m\u001b[0;34m\u001b[0m\u001b[0;34m\u001b[0m\u001b[0;34m\u001b[0m\u001b[0m\n\u001b[1;32m      2\u001b[0m \u001b[0;32mimport\u001b[0m \u001b[0mmatplotlib\u001b[0m\u001b[0;34m.\u001b[0m\u001b[0mpyplot\u001b[0m \u001b[0;32mas\u001b[0m \u001b[0mplt\u001b[0m\u001b[0;34m\u001b[0m\u001b[0;34m\u001b[0m\u001b[0m\n\u001b[0;32m----> 3\u001b[0;31m \u001b[0mplt\u001b[0m\u001b[0;34m.\u001b[0m\u001b[0mplot\u001b[0m\u001b[0;34m(\u001b[0m\u001b[0mhistory\u001b[0m\u001b[0;34m.\u001b[0m\u001b[0mhistory\u001b[0m\u001b[0;34m[\u001b[0m\u001b[0;34m'loss'\u001b[0m\u001b[0;34m]\u001b[0m\u001b[0;34m,\u001b[0m \u001b[0;34m'b-'\u001b[0m\u001b[0;34m,\u001b[0m \u001b[0mlabel\u001b[0m\u001b[0;34m=\u001b[0m\u001b[0;34m'loss'\u001b[0m\u001b[0;34m)\u001b[0m\u001b[0;34m\u001b[0m\u001b[0;34m\u001b[0m\u001b[0m\n\u001b[0m\u001b[1;32m      4\u001b[0m \u001b[0mplt\u001b[0m\u001b[0;34m.\u001b[0m\u001b[0mplot\u001b[0m\u001b[0;34m(\u001b[0m\u001b[0mhistory\u001b[0m\u001b[0;34m.\u001b[0m\u001b[0mhistory\u001b[0m\u001b[0;34m[\u001b[0m\u001b[0;34m'val_loss'\u001b[0m\u001b[0;34m]\u001b[0m\u001b[0;34m,\u001b[0m \u001b[0;34m'b-'\u001b[0m\u001b[0;34m,\u001b[0m \u001b[0mlabel\u001b[0m\u001b[0;34m=\u001b[0m\u001b[0;34m'val_loss'\u001b[0m\u001b[0;34m)\u001b[0m\u001b[0;34m\u001b[0m\u001b[0;34m\u001b[0m\u001b[0m\n\u001b[1;32m      5\u001b[0m \u001b[0mplt\u001b[0m\u001b[0;34m.\u001b[0m\u001b[0mxlabel\u001b[0m\u001b[0;34m(\u001b[0m\u001b[0;34m'Epoch'\u001b[0m\u001b[0;34m)\u001b[0m\u001b[0;34m\u001b[0m\u001b[0;34m\u001b[0m\u001b[0m\n",
            "\u001b[0;31mNameError\u001b[0m: name 'history' is not defined"
          ]
        }
      ]
    },
    {
      "cell_type": "code",
      "metadata": {
        "id": "5r8VgzGYZM-L",
        "colab_type": "code",
        "colab": {
          "base_uri": "https://localhost:8080/",
          "height": 136
        },
        "outputId": "f028688b-334a-4789-9fc4-1d4bd8071c22"
      },
      "source": [
        "# 테스트 데이터에 대한 예측 정확도 확인\n",
        "model.evaluate(X[2560:], Y[2560:])\n",
        "prediction = model.predict(X[2560:2560+5])\n",
        "\n",
        "# 5개 테스트 데이터에 대한 예측을 표시한다.\n",
        "for i in range(5):\n",
        "  print(Y[2560+i], '\\t'), prediction[i][0], '\\tdiff:', abs(prediction[i][0] - Y[2560+i])\n",
        "\n",
        "prediction = model.predict(X[2560:])\n",
        "fail = 0\n",
        "for i in range(len(prediction)):\n",
        "  # 오차가 0.4 이상이면 오답이다.\n",
        "  if abs(prediction[i][0] - Y[2560+i]) > 0.04:\n",
        "    fail +=1\n",
        "print('correnctness:', (440 - fail) / 440 * 100, '%')"
      ],
      "execution_count": 13,
      "outputs": [
        {
          "output_type": "stream",
          "text": [
            "14/14 [==============================] - 0s 16ms/step - loss: 0.0545\n",
            "0.16001983160241762 \t\n",
            "0.15214741989955927 \t\n",
            "0.11939323465419154 \t\n",
            "0.21953766860824392 \t\n",
            "0.6947271192171183 \t\n",
            "correnctness: 9.545454545454547 %\n"
          ],
          "name": "stdout"
        }
      ]
    },
    {
      "cell_type": "code",
      "metadata": {
        "id": "O_ByTbE3a1mP",
        "colab_type": "code",
        "colab": {
          "base_uri": "https://localhost:8080/",
          "height": 255
        },
        "outputId": "00acac3f-47b6-4e11-8664-13ef95b43c33"
      },
      "source": [
        "# LSTM 레이어를 이용한 곱셈 문제 모델 정의\n",
        "model = tf.keras.Sequential([\n",
        "  tf.keras.layers.LSTM(units=30, return_sequences=True, input_shape=[100,2]),\n",
        "  tf.keras.layers.LSTM(units=30),\n",
        "  tf.keras.layers.Dense(1)\n",
        "])\n",
        "\n",
        "model.compile(optimizer='adam', loss='mse')\n",
        "model.summary()"
      ],
      "execution_count": 14,
      "outputs": [
        {
          "output_type": "stream",
          "text": [
            "Model: \"sequential_2\"\n",
            "_________________________________________________________________\n",
            "Layer (type)                 Output Shape              Param #   \n",
            "=================================================================\n",
            "lstm (LSTM)                  (None, 100, 30)           3960      \n",
            "_________________________________________________________________\n",
            "lstm_1 (LSTM)                (None, 30)                7320      \n",
            "_________________________________________________________________\n",
            "dense_1 (Dense)              (None, 1)                 31        \n",
            "=================================================================\n",
            "Total params: 11,311\n",
            "Trainable params: 11,311\n",
            "Non-trainable params: 0\n",
            "_________________________________________________________________\n"
          ],
          "name": "stdout"
        }
      ]
    },
    {
      "cell_type": "code",
      "metadata": {
        "id": "7VsN8iM2b5PK",
        "colab_type": "code",
        "colab": {}
      },
      "source": [
        "# LSTM 네트워크 학습\n",
        "X = np.array(X)\n",
        "Y = np.array(Y)\n",
        "history = model.fit(X[:2560], Y[:2560], epochs=100, validation_split=0.2)"
      ],
      "execution_count": null,
      "outputs": []
    },
    {
      "cell_type": "code",
      "metadata": {
        "id": "tUqkHTFycMMb",
        "colab_type": "code",
        "colab": {
          "base_uri": "https://localhost:8080/",
          "height": 279
        },
        "outputId": "2e249d2b-631b-45f7-cd61-e539f0744fe0"
      },
      "source": [
        "# LSTM 네트워크의 학습 결과 확인\n",
        "import matplotlib.pyplot as plt\n",
        "plt.plot(history.history['loss'], 'b-', label='loss')\n",
        "plt.plot(history.history['val_loss'], 'b-', label='val_loss')\n",
        "plt.xlabel('Epoch')\n",
        "plt.legend()\n",
        "plt.show()"
      ],
      "execution_count": 18,
      "outputs": [
        {
          "output_type": "display_data",
          "data": {
            "image/png": "[encoded data removed]",
            "text/plain": [
              "<Figure size 432x288 with 1 Axes>"
            ]
          },
          "metadata": {
            "tags": [],
            "needs_background": "light"
          }
        }
      ]
    },
    {
      "cell_type": "code",
      "metadata": {
        "id": "pDS4nTyTceJo",
        "colab_type": "code",
        "colab": {
          "base_uri": "https://localhost:8080/",
          "height": 136
        },
        "outputId": "403cb492-ca74-4155-f7d0-201b94ad94ba"
      },
      "source": [
        "# 테스트 데이터에 대한 예측 정확도 확인\n",
        "model.evaluate(X[2560:], Y[2560:])\n",
        "prediction = model.predict(X[2560:2560+5])\n",
        "\n",
        "# 5개 테스트 데이터에 대한 예측을 표시한다.\n",
        "for i in range(5):\n",
        "  print(Y[2560+i], '\\t'), prediction[i][0], '\\tdiff:', abs(prediction[i][0] - Y[2560+i])\n",
        "\n",
        "prediction = model.predict(X[2560:])\n",
        "cnt = 0\n",
        "for i in range(len(prediction)):\n",
        "  if abs(prediction[i][0] - Y[2560+i]) > 0.04:\n",
        "    cnt +=1\n",
        "print('correnctness:', (440 - cnt) / 440 * 100, '%')"
      ],
      "execution_count": 19,
      "outputs": [
        {
          "output_type": "stream",
          "text": [
            "14/14 [==============================] - 0s 13ms/step - loss: 5.0716e-04\n",
            "0.16001983160241762 \t\n",
            "0.15214741989955927 \t\n",
            "0.11939323465419154 \t\n",
            "0.21953766860824392 \t\n",
            "0.6947271192171183 \t\n",
            "correnctness: 93.63636363636364 %\n"
          ],
          "name": "stdout"
        }
      ]
    },
    {
      "cell_type": "code",
      "metadata": {
        "id": "7GcOeRkOdKl1",
        "colab_type": "code",
        "colab": {
          "base_uri": "https://localhost:8080/",
          "height": 255
        },
        "outputId": "5f20b93c-ac3b-44e7-939f-bcf2f48b8efb"
      },
      "source": [
        "# GRU 레이어를 이용한 곱셈 문제 모델 정의\n",
        "model = tf.keras.Sequential([\n",
        "  tf.keras.layers.GRU(units=30, return_sequences=True, input_shape=[100,2]),\n",
        "  tf.keras.layers.GRU(units=30),\n",
        "  tf.keras.layers.Dense(1)\n",
        "])\n",
        "\n",
        "model.compile(optimizer='adam', loss='mse')\n",
        "model.summary()"
      ],
      "execution_count": 20,
      "outputs": [
        {
          "output_type": "stream",
          "text": [
            "Model: \"sequential_3\"\n",
            "_________________________________________________________________\n",
            "Layer (type)                 Output Shape              Param #   \n",
            "=================================================================\n",
            "gru (GRU)                    (None, 100, 30)           3060      \n",
            "_________________________________________________________________\n",
            "gru_1 (GRU)                  (None, 30)                5580      \n",
            "_________________________________________________________________\n",
            "dense_2 (Dense)              (None, 1)                 31        \n",
            "=================================================================\n",
            "Total params: 8,671\n",
            "Trainable params: 8,671\n",
            "Non-trainable params: 0\n",
            "_________________________________________________________________\n"
          ],
          "name": "stdout"
        }
      ]
    },
    {
      "cell_type": "code",
      "metadata": {
        "id": "GBo4LQj3d8CY",
        "colab_type": "code",
        "colab": {
          "base_uri": "https://localhost:8080/",
          "height": 1000
        },
        "outputId": "c8e0d50f-4c1b-4317-ceb8-02caee29be75"
      },
      "source": [
        "# GRU 레이어 네트워크 학습\n",
        "X = np.array(X)\n",
        "Y = np.array(Y)\n",
        "history = model.fit(X[:2560], Y[:2560], epochs=100, validation_split=0.2)"
      ],
      "execution_count": 21,
      "outputs": [
        {
          "output_type": "stream",
          "text": [
            "Epoch 1/100\n",
            " 1/64 [..............................] - ETA: 0s - loss: 0.0853WARNING:tensorflow:Callbacks method `on_train_batch_end` is slow compared to the batch time (batch time: 0.0114s vs `on_train_batch_end` time: 0.0255s). Check your callbacks.\n",
            "63/64 [============================>.] - ETA: 0s - loss: 0.0530WARNING:tensorflow:Callbacks method `on_test_batch_end` is slow compared to the batch time (batch time: 0.0046s vs `on_test_batch_end` time: 0.0077s). Check your callbacks.\n",
            "64/64 [==============================] - 3s 53ms/step - loss: 0.0529 - val_loss: 0.0504\n",
            "Epoch 2/100\n",
            "64/64 [==============================] - 3s 45ms/step - loss: 0.0507 - val_loss: 0.0501\n",
            "Epoch 3/100\n",
            "64/64 [==============================] - 3s 45ms/step - loss: 0.0501 - val_loss: 0.0501\n",
            "Epoch 4/100\n",
            "64/64 [==============================] - 3s 44ms/step - loss: 0.0505 - val_loss: 0.0504\n",
            "Epoch 5/100\n",
            "64/64 [==============================] - 3s 44ms/step - loss: 0.0498 - val_loss: 0.0501\n",
            "Epoch 6/100\n",
            "64/64 [==============================] - 3s 45ms/step - loss: 0.0498 - val_loss: 0.0504\n",
            "Epoch 7/100\n",
            "64/64 [==============================] - 3s 44ms/step - loss: 0.0498 - val_loss: 0.0513\n",
            "Epoch 8/100\n",
            "64/64 [==============================] - 3s 43ms/step - loss: 0.0496 - val_loss: 0.0502\n",
            "Epoch 9/100\n",
            "64/64 [==============================] - 3s 45ms/step - loss: 0.0496 - val_loss: 0.0501\n",
            "Epoch 10/100\n",
            "64/64 [==============================] - 3s 44ms/step - loss: 0.0494 - val_loss: 0.0506\n",
            "Epoch 11/100\n",
            "64/64 [==============================] - 3s 44ms/step - loss: 0.0494 - val_loss: 0.0502\n",
            "Epoch 12/100\n",
            "64/64 [==============================] - 3s 44ms/step - loss: 0.0491 - val_loss: 0.0501\n",
            "Epoch 13/100\n",
            "64/64 [==============================] - 3s 44ms/step - loss: 0.0492 - val_loss: 0.0500\n",
            "Epoch 14/100\n",
            "64/64 [==============================] - 3s 44ms/step - loss: 0.0491 - val_loss: 0.0500\n",
            "Epoch 15/100\n",
            "64/64 [==============================] - 3s 43ms/step - loss: 0.0486 - val_loss: 0.0499\n",
            "Epoch 16/100\n",
            "64/64 [==============================] - 3s 44ms/step - loss: 0.0481 - val_loss: 0.0499\n",
            "Epoch 17/100\n",
            "64/64 [==============================] - 3s 44ms/step - loss: 0.0484 - val_loss: 0.0498\n",
            "Epoch 18/100\n",
            "64/64 [==============================] - 3s 44ms/step - loss: 0.0484 - val_loss: 0.0485\n",
            "Epoch 19/100\n",
            "64/64 [==============================] - 3s 44ms/step - loss: 0.0476 - val_loss: 0.0477\n",
            "Epoch 20/100\n",
            "64/64 [==============================] - 3s 44ms/step - loss: 0.0477 - val_loss: 0.0473\n",
            "Epoch 21/100\n",
            "64/64 [==============================] - 3s 44ms/step - loss: 0.0464 - val_loss: 0.0474\n",
            "Epoch 22/100\n",
            "64/64 [==============================] - 3s 44ms/step - loss: 0.0414 - val_loss: 0.0163\n",
            "Epoch 23/100\n",
            "64/64 [==============================] - 3s 44ms/step - loss: 0.0096 - val_loss: 0.0055\n",
            "Epoch 24/100\n",
            "64/64 [==============================] - 3s 44ms/step - loss: 0.0035 - val_loss: 0.0033\n",
            "Epoch 25/100\n",
            "64/64 [==============================] - 3s 44ms/step - loss: 0.0024 - val_loss: 0.0043\n",
            "Epoch 26/100\n",
            "64/64 [==============================] - 3s 45ms/step - loss: 0.0021 - val_loss: 0.0018\n",
            "Epoch 27/100\n",
            "64/64 [==============================] - 3s 44ms/step - loss: 0.0016 - val_loss: 0.0018\n",
            "Epoch 28/100\n",
            "64/64 [==============================] - 3s 44ms/step - loss: 0.0019 - val_loss: 0.0015\n",
            "Epoch 29/100\n",
            "64/64 [==============================] - 3s 44ms/step - loss: 0.0013 - val_loss: 0.0014\n",
            "Epoch 30/100\n",
            "64/64 [==============================] - 3s 44ms/step - loss: 0.0012 - val_loss: 0.0013\n",
            "Epoch 31/100\n",
            "64/64 [==============================] - 3s 44ms/step - loss: 0.0013 - val_loss: 0.0014\n",
            "Epoch 32/100\n",
            "64/64 [==============================] - 3s 44ms/step - loss: 0.0012 - val_loss: 0.0012\n",
            "Epoch 33/100\n",
            "64/64 [==============================] - 3s 44ms/step - loss: 0.0010 - val_loss: 0.0010\n",
            "Epoch 34/100\n",
            "64/64 [==============================] - 3s 44ms/step - loss: 0.0011 - val_loss: 0.0012\n",
            "Epoch 35/100\n",
            "64/64 [==============================] - 3s 44ms/step - loss: 9.3973e-04 - val_loss: 9.7331e-04\n",
            "Epoch 36/100\n",
            "64/64 [==============================] - 3s 43ms/step - loss: 7.4817e-04 - val_loss: 9.4290e-04\n",
            "Epoch 37/100\n",
            "64/64 [==============================] - 3s 44ms/step - loss: 9.3550e-04 - val_loss: 9.3303e-04\n",
            "Epoch 38/100\n",
            "64/64 [==============================] - 3s 44ms/step - loss: 7.5121e-04 - val_loss: 8.8463e-04\n",
            "Epoch 39/100\n",
            "64/64 [==============================] - 3s 44ms/step - loss: 6.9546e-04 - val_loss: 8.2104e-04\n",
            "Epoch 40/100\n",
            "64/64 [==============================] - 3s 43ms/step - loss: 6.1716e-04 - val_loss: 7.1082e-04\n",
            "Epoch 41/100\n",
            "64/64 [==============================] - 3s 43ms/step - loss: 6.2604e-04 - val_loss: 9.4563e-04\n",
            "Epoch 42/100\n",
            "64/64 [==============================] - 3s 44ms/step - loss: 6.8222e-04 - val_loss: 0.0011\n",
            "Epoch 43/100\n",
            "64/64 [==============================] - 3s 43ms/step - loss: 6.6626e-04 - val_loss: 6.8160e-04\n",
            "Epoch 44/100\n",
            "64/64 [==============================] - 3s 44ms/step - loss: 6.4262e-04 - val_loss: 0.0014\n",
            "Epoch 45/100\n",
            "64/64 [==============================] - 3s 43ms/step - loss: 5.9969e-04 - val_loss: 6.4710e-04\n",
            "Epoch 46/100\n",
            "64/64 [==============================] - 3s 44ms/step - loss: 4.9852e-04 - val_loss: 6.7171e-04\n",
            "Epoch 47/100\n",
            "64/64 [==============================] - 3s 44ms/step - loss: 5.4747e-04 - val_loss: 7.1852e-04\n",
            "Epoch 48/100\n",
            "64/64 [==============================] - 3s 44ms/step - loss: 6.1698e-04 - val_loss: 5.7526e-04\n",
            "Epoch 49/100\n",
            "64/64 [==============================] - 3s 44ms/step - loss: 5.0723e-04 - val_loss: 6.0038e-04\n",
            "Epoch 50/100\n",
            "64/64 [==============================] - 3s 44ms/step - loss: 4.9453e-04 - val_loss: 6.7483e-04\n",
            "Epoch 51/100\n",
            "64/64 [==============================] - 3s 44ms/step - loss: 4.6365e-04 - val_loss: 6.8490e-04\n",
            "Epoch 52/100\n",
            "64/64 [==============================] - 3s 44ms/step - loss: 4.5977e-04 - val_loss: 5.6744e-04\n",
            "Epoch 53/100\n",
            "64/64 [==============================] - 3s 43ms/step - loss: 4.1277e-04 - val_loss: 5.3048e-04\n",
            "Epoch 54/100\n",
            "64/64 [==============================] - 3s 44ms/step - loss: 3.9002e-04 - val_loss: 5.4893e-04\n",
            "Epoch 55/100\n",
            "64/64 [==============================] - 3s 44ms/step - loss: 6.1381e-04 - val_loss: 5.9345e-04\n",
            "Epoch 56/100\n",
            "64/64 [==============================] - 3s 44ms/step - loss: 5.9793e-04 - val_loss: 5.7876e-04\n",
            "Epoch 57/100\n",
            "64/64 [==============================] - 3s 44ms/step - loss: 3.6266e-04 - val_loss: 4.9494e-04\n",
            "Epoch 58/100\n",
            "64/64 [==============================] - 3s 44ms/step - loss: 3.7868e-04 - val_loss: 4.5704e-04\n",
            "Epoch 59/100\n",
            "64/64 [==============================] - 3s 45ms/step - loss: 3.9158e-04 - val_loss: 5.4062e-04\n",
            "Epoch 60/100\n",
            "64/64 [==============================] - 3s 44ms/step - loss: 3.3827e-04 - val_loss: 4.7537e-04\n",
            "Epoch 61/100\n",
            "64/64 [==============================] - 3s 44ms/step - loss: 3.9887e-04 - val_loss: 5.5656e-04\n",
            "Epoch 62/100\n",
            "64/64 [==============================] - 3s 44ms/step - loss: 3.2262e-04 - val_loss: 4.6783e-04\n",
            "Epoch 63/100\n",
            "64/64 [==============================] - 3s 44ms/step - loss: 3.1864e-04 - val_loss: 4.1222e-04\n",
            "Epoch 64/100\n",
            "64/64 [==============================] - 3s 44ms/step - loss: 3.2054e-04 - val_loss: 5.0157e-04\n",
            "Epoch 65/100\n",
            "64/64 [==============================] - 3s 44ms/step - loss: 3.8211e-04 - val_loss: 5.9433e-04\n",
            "Epoch 66/100\n",
            "64/64 [==============================] - 3s 44ms/step - loss: 2.7501e-04 - val_loss: 3.2397e-04\n",
            "Epoch 67/100\n",
            "64/64 [==============================] - 3s 44ms/step - loss: 2.8858e-04 - val_loss: 3.4762e-04\n",
            "Epoch 68/100\n",
            "64/64 [==============================] - 3s 43ms/step - loss: 3.8053e-04 - val_loss: 7.9902e-04\n",
            "Epoch 69/100\n",
            "64/64 [==============================] - 3s 44ms/step - loss: 3.6969e-04 - val_loss: 3.7031e-04\n",
            "Epoch 70/100\n",
            "64/64 [==============================] - 3s 44ms/step - loss: 2.6455e-04 - val_loss: 3.4734e-04\n",
            "Epoch 71/100\n",
            "64/64 [==============================] - 3s 44ms/step - loss: 3.0534e-04 - val_loss: 5.8137e-04\n",
            "Epoch 72/100\n",
            "64/64 [==============================] - 3s 44ms/step - loss: 3.2141e-04 - val_loss: 3.2793e-04\n",
            "Epoch 73/100\n",
            "64/64 [==============================] - 3s 43ms/step - loss: 2.6848e-04 - val_loss: 3.4205e-04\n",
            "Epoch 74/100\n",
            "64/64 [==============================] - 3s 44ms/step - loss: 3.3884e-04 - val_loss: 2.8948e-04\n",
            "Epoch 75/100\n",
            "64/64 [==============================] - 3s 44ms/step - loss: 3.0901e-04 - val_loss: 3.4315e-04\n",
            "Epoch 76/100\n",
            "64/64 [==============================] - 3s 44ms/step - loss: 2.7035e-04 - val_loss: 3.5108e-04\n",
            "Epoch 77/100\n",
            "64/64 [==============================] - 3s 44ms/step - loss: 2.4154e-04 - val_loss: 4.2042e-04\n",
            "Epoch 78/100\n",
            "64/64 [==============================] - 3s 45ms/step - loss: 2.1272e-04 - val_loss: 3.5917e-04\n",
            "Epoch 79/100\n",
            "64/64 [==============================] - 3s 43ms/step - loss: 2.8693e-04 - val_loss: 8.1013e-04\n",
            "Epoch 80/100\n",
            "64/64 [==============================] - 3s 44ms/step - loss: 2.8947e-04 - val_loss: 3.4965e-04\n",
            "Epoch 81/100\n",
            "64/64 [==============================] - 3s 44ms/step - loss: 2.4959e-04 - val_loss: 2.8911e-04\n",
            "Epoch 82/100\n",
            "64/64 [==============================] - 3s 44ms/step - loss: 3.0824e-04 - val_loss: 2.4028e-04\n",
            "Epoch 83/100\n",
            "64/64 [==============================] - 3s 44ms/step - loss: 2.7121e-04 - val_loss: 2.8012e-04\n",
            "Epoch 84/100\n",
            "64/64 [==============================] - 3s 44ms/step - loss: 2.1717e-04 - val_loss: 4.3514e-04\n",
            "Epoch 85/100\n",
            "64/64 [==============================] - 3s 44ms/step - loss: 2.8675e-04 - val_loss: 2.4261e-04\n",
            "Epoch 86/100\n",
            "64/64 [==============================] - 3s 44ms/step - loss: 2.1515e-04 - val_loss: 4.9139e-04\n",
            "Epoch 87/100\n",
            "64/64 [==============================] - 3s 44ms/step - loss: 5.0725e-04 - val_loss: 8.0266e-04\n",
            "Epoch 88/100\n",
            "64/64 [==============================] - 3s 44ms/step - loss: 3.1416e-04 - val_loss: 2.1895e-04\n",
            "Epoch 89/100\n",
            "64/64 [==============================] - 3s 44ms/step - loss: 1.8715e-04 - val_loss: 2.5970e-04\n",
            "Epoch 90/100\n",
            "64/64 [==============================] - 3s 44ms/step - loss: 2.3026e-04 - val_loss: 2.9510e-04\n",
            "Epoch 91/100\n",
            "64/64 [==============================] - 3s 44ms/step - loss: 1.8266e-04 - val_loss: 3.0362e-04\n",
            "Epoch 92/100\n",
            "64/64 [==============================] - 3s 44ms/step - loss: 1.9245e-04 - val_loss: 2.1681e-04\n",
            "Epoch 93/100\n",
            "64/64 [==============================] - 3s 44ms/step - loss: 1.9516e-04 - val_loss: 2.5730e-04\n",
            "Epoch 94/100\n",
            "64/64 [==============================] - 3s 43ms/step - loss: 2.0090e-04 - val_loss: 3.2309e-04\n",
            "Epoch 95/100\n",
            "64/64 [==============================] - 3s 44ms/step - loss: 2.7672e-04 - val_loss: 2.9298e-04\n",
            "Epoch 96/100\n",
            "64/64 [==============================] - 3s 44ms/step - loss: 1.7181e-04 - val_loss: 2.3368e-04\n",
            "Epoch 97/100\n",
            "64/64 [==============================] - 3s 44ms/step - loss: 1.6040e-04 - val_loss: 5.5633e-04\n",
            "Epoch 98/100\n",
            "64/64 [==============================] - 3s 45ms/step - loss: 1.9752e-04 - val_loss: 2.0095e-04\n",
            "Epoch 99/100\n",
            "64/64 [==============================] - 3s 44ms/step - loss: 2.4800e-04 - val_loss: 3.1529e-04\n",
            "Epoch 100/100\n",
            "64/64 [==============================] - 3s 44ms/step - loss: 1.6328e-04 - val_loss: 2.4393e-04\n"
          ],
          "name": "stdout"
        }
      ]
    },
    {
      "cell_type": "code",
      "metadata": {
        "id": "JGTGeKudd_uM",
        "colab_type": "code",
        "colab": {
          "base_uri": "https://localhost:8080/",
          "height": 279
        },
        "outputId": "f4efc98f-8d03-411e-80b6-c81d01cdc35b"
      },
      "source": [
        "# GRU 레이어 네트워크의 학습 결과 확인\n",
        "import matplotlib.pyplot as plt\n",
        "plt.plot(history.history['loss'], 'b-', label='loss')\n",
        "plt.plot(history.history['val_loss'], 'b-', label='val_loss')\n",
        "plt.xlabel('Epoch')\n",
        "plt.legend()\n",
        "plt.show()"
      ],
      "execution_count": 22,
      "outputs": [
        {
          "output_type": "display_data",
          "data": {
            "image/png": "[encoded data removed]",
            "text/plain": [
              "<Figure size 432x288 with 1 Axes>"
            ]
          },
          "metadata": {
            "tags": [],
            "needs_background": "light"
          }
        }
      ]
    },
    {
      "cell_type": "code",
      "metadata": {
        "id": "4JQJPJLueEAN",
        "colab_type": "code",
        "colab": {
          "base_uri": "https://localhost:8080/",
          "height": 136
        },
        "outputId": "0b155db7-b4d9-42a4-b017-54eccb41a28c"
      },
      "source": [
        "# 테스트 데이터에 대한 예측 정확도 확인\n",
        "model.evaluate(X[2560:], Y[2560:])\n",
        "prediction = model.predict(X[2560:2560+5])\n",
        "\n",
        "# 5개 테스트 데이터에 대한 예측을 표시한다.\n",
        "for i in range(5):\n",
        "  print(Y[2560+i], '\\t'), prediction[i][0], '\\tdiff:', abs(prediction[i][0] - Y[2560+i])\n",
        "\n",
        "prediction = model.predict(X[2560:])\n",
        "cnt = 0\n",
        "for i in range(len(prediction)):\n",
        "  if abs(prediction[i][0] - Y[2560+i]) > 0.04:\n",
        "    cnt +=1\n",
        "print('correnctness:', (440 - cnt) / 440 * 100, '%')"
      ],
      "execution_count": 23,
      "outputs": [
        {
          "output_type": "stream",
          "text": [
            "14/14 [==============================] - 0s 13ms/step - loss: 2.4414e-04\n",
            "0.16001983160241762 \t\n",
            "0.15214741989955927 \t\n",
            "0.11939323465419154 \t\n",
            "0.21953766860824392 \t\n",
            "0.6947271192171183 \t\n",
            "correnctness: 97.72727272727273 %\n"
          ],
          "name": "stdout"
        }
      ]
    },
    {
      "cell_type": "markdown",
      "metadata": {
        "id": "anDwWkzTgYnf",
        "colab_type": "text"
      },
      "source": [
        "# 임베딩 레이어\n",
        "영화 리뷰를 통해서 긍정 부정을 판단해보자"
      ]
    },
    {
      "cell_type": "code",
      "metadata": {
        "id": "1-ie8iAagg8k",
        "colab_type": "code",
        "colab": {
          "base_uri": "https://localhost:8080/",
          "height": 51
        },
        "outputId": "4e2e5f98-af62-4baf-8237-13ef96b71203"
      },
      "source": [
        "# Naver Sentiment Movie Corpus v1.0 다운로드\n",
        "path_to_train_file = tf.keras.utils.get_file('train.txt', 'https://raw.githubusercontent.com/e9t/nsmc/master/ratings_train.txt')\n",
        "path_to_test_file = tf.keras.utils.get_file('test.txt', 'https://raw.githubusercontent.com/e9t/nsmc/master/ratings_test.txt')"
      ],
      "execution_count": 30,
      "outputs": [
        {
          "output_type": "stream",
          "text": [
            "Downloading data from https://raw.githubusercontent.com/e9t/nsmc/master/ratings_test.txt\n",
            "4898816/4893335 [==============================] - 0s 0us/step\n"
          ],
          "name": "stdout"
        }
      ]
    },
    {
      "cell_type": "code",
      "metadata": {
        "id": "M4a-5dqBhPB7",
        "colab_type": "code",
        "colab": {
          "base_uri": "https://localhost:8080/",
          "height": 340
        },
        "outputId": "82213092-b2ce-484d-a70f-f6117854044f"
      },
      "source": [
        "# 데이터 로드 및 확인\n",
        "# 데이터를 메모리에 불러온다. 인코딩 형식으로 utf-8을 지정한다.\n",
        "train_text = open(path_to_train_file, 'rb').read().decode(encoding='utf-8')\n",
        "test_text = open(path_to_test_file, 'rb').read().decode(encoding='utf-8')\n",
        "\n",
        "# 텍스트가 총 몇 자인지 확인한다.\n",
        "print('Lenfth of text : {} charaters'.format(len(train_text)))\n",
        "print('Lenfth of text : {} charaters'.format(len(test_text)))\n",
        "\n",
        "# 처음 300자를 확인한다\n",
        "print(train_text[:300])\n",
        "print(test_text[:300])"
      ],
      "execution_count": 31,
      "outputs": [
        {
          "output_type": "stream",
          "text": [
            "Lenfth of text : 6937271 charaters\n",
            "Lenfth of text : 2318260 charaters\n",
            "id\tdocument\tlabel\n",
            "9976970\t아 더빙.. 진짜 짜증나네요 목소리\t0\n",
            "3819312\t흠...포스터보고 초딩영화줄....오버연기조차 가볍지 않구나\t1\n",
            "10265843\t너무재밓었다그래서보는것을추천한다\t0\n",
            "9045019\t교도소 이야기구먼 ..솔직히 재미는 없다..평점 조정\t0\n",
            "6483659\t사이몬페그의 익살스런 연기가 돋보였던 영화!스파이더맨에서 늙어보이기만 했던 커스틴 던스트가 너무나도 이뻐보였다\t1\n",
            "5403919\t막 걸음마 뗀 3세부터 초등학교 1학년생인 8살용영화.ㅋㅋㅋ...별반개도 아까움.\t0\n",
            "7797314\t원작의\n",
            "id\tdocument\tlabel\n",
            "6270596\t굳 ㅋ\t1\n",
            "9274899\tGDNTOPCLASSINTHECLUB\t0\n",
            "8544678\t뭐야 이 평점들은.... 나쁘진 않지만 10점 짜리는 더더욱 아니잖아\t0\n",
            "6825595\t지루하지는 않은데 완전 막장임... 돈주고 보기에는....\t0\n",
            "6723715\t3D만 아니었어도 별 다섯 개 줬을텐데.. 왜 3D로 나와서 제 심기를 불편하게 하죠??\t0\n",
            "7898805\t음악이 주가 된, 최고의 음악영화\t1\n",
            "6315043\t진정한 쓰레기\t0\n",
            "6097171\t마치 미국애니에서 튀어나온듯한 창의력없는 로봇디자인부터\n"
          ],
          "name": "stdout"
        }
      ]
    },
    {
      "cell_type": "code",
      "metadata": {
        "id": "66uJBXsmiATk",
        "colab_type": "code",
        "colab": {
          "base_uri": "https://localhost:8080/",
          "height": 119
        },
        "outputId": "4a7840bd-b70e-4a8b-b2b2-457856fb50cd"
      },
      "source": [
        "# 학습을 위한 정답 데이터(Y) 만들기\n",
        "train_Y = np.array([[int(row.split('\\t')[2])] for row in train_text.split('\\n')[1:] if row.count('\\t') > 0])\n",
        "test_Y = np.array([[int(row.split('\\t')[2])] for row in test_text.split('\\n')[1:] if row.count('\\t') > 0])\n",
        "\n",
        "print(train_Y.shape, test_Y.shape)\n",
        "print(train_Y)"
      ],
      "execution_count": 70,
      "outputs": [
        {
          "output_type": "stream",
          "text": [
            "(150000, 1) (50000, 1)\n",
            "[[1]\n",
            " [0]\n",
            " [0]\n",
            " [0]\n",
            " [0]]\n"
          ],
          "name": "stdout"
        }
      ]
    },
    {
      "cell_type": "code",
      "metadata": {
        "id": "RPvLO3UpjX7v",
        "colab_type": "code",
        "colab": {
          "base_uri": "https://localhost:8080/",
          "height": 102
        },
        "outputId": "e64ee00f-f9bf-4629-dfe3-cb98751d8d4b"
      },
      "source": [
        "# 훈련 데이터의 입력(X) 정제\n",
        "import re\n",
        "\n",
        "def clean_str(string):\n",
        "  string = re.sub(r\"[^가-힣A-Za-z0-9(),!?\\'\\`]\", \" \", string)\n",
        "  string = re.sub(r\"\\'s\", \" \\'s\", string)\n",
        "  string = re.sub(r\"\\'ve\", \" \\'ve\", string)\n",
        "  string = re.sub(r\"n\\'t\", \" n\\'t\" , string)\n",
        "  string = re.sub(r\"\\'re\", \" \\'re\" , string)\n",
        "  string = re.sub(r\"\\'d\", \" \\'d\" , string)\n",
        "  string = re.sub(r\"\\'ll\", \" \\'ll\" , string)\n",
        "  string = re.sub(r\",\", \" , \" , string)\n",
        "  string = re.sub(r\"!\", \" ! \" , string)\n",
        "  string = re.sub(r\"\\(\", \" \\( \" , string)\n",
        "  string = re.sub(r\"\\)\", \" \\) \" , string)\n",
        "  string = re.sub(r\"\\?\", \" \\? \" , string)\n",
        "  string = re.sub(r\"\\s{2,}\", \" \" , string)\n",
        "  string = re.sub(r\"\\'{2,}\", \"\\'\" , string)\n",
        "  string = re.sub(r\"\\'\", \"\" , string)\n",
        "\n",
        "  return string.lower()\n",
        "\n",
        "train_text_X = [row.split('\\t')[1] for row in train_text.split('\\n')[1:] if row.count('\\t') > 0]\n",
        "test_text_X = [clean_str(sentence) for sentence in train_text_X]\n",
        "\n",
        "sentences = [sentence.split(' ') for sentence in train_text_X]\n",
        "for i in range(5):\n",
        "  print(sentences[i])"
      ],
      "execution_count": 58,
      "outputs": [
        {
          "output_type": "stream",
          "text": [
            "['아', '더빙..', '진짜', '짜증나네요', '목소리']\n",
            "['흠...포스터보고', '초딩영화줄....오버연기조차', '가볍지', '않구나']\n",
            "['너무재밓었다그래서보는것을추천한다']\n",
            "['교도소', '이야기구먼', '..솔직히', '재미는', '없다..평점', '조정']\n",
            "['사이몬페그의', '익살스런', '연기가', '돋보였던', '영화!스파이더맨에서', '늙어보이기만', '했던', '커스틴', '던스트가', '너무나도', '이뻐보였다']\n"
          ],
          "name": "stdout"
        }
      ]
    },
    {
      "cell_type": "code",
      "metadata": {
        "id": "oxOvb1wwlPR2",
        "colab_type": "code",
        "colab": {
          "base_uri": "https://localhost:8080/",
          "height": 282
        },
        "outputId": "c62be2db-baf8-49b5-9547-6ebf6704ba42"
      },
      "source": [
        "# 각 문장의 단어 길이 확인\n",
        "import matplotlib.pyplot as plt\n",
        "sentence_len = [len(sentence) for sentence in sentences]\n",
        "sentence_len.sort()\n",
        "plt.plot(sentence_len)\n",
        "plt.show()\n",
        "\n",
        "print(sum([int(l<=25) for l in sentence_len]))"
      ],
      "execution_count": 59,
      "outputs": [
        {
          "output_type": "display_data",
          "data": {
            "image/png": "[encoded data removed]",
            "text/plain": [
              "<Figure size 432x288 with 1 Axes>"
            ]
          },
          "metadata": {
            "tags": [],
            "needs_background": "light"
          }
        },
        {
          "output_type": "stream",
          "text": [
            "144646\n"
          ],
          "name": "stdout"
        }
      ]
    },
    {
      "cell_type": "code",
      "metadata": {
        "id": "ujgIczp2l7lr",
        "colab_type": "code",
        "colab": {
          "base_uri": "https://localhost:8080/",
          "height": 102
        },
        "outputId": "2d3c7c55-75cc-41c1-ea1d-93cd61306880"
      },
      "source": [
        "# 단어 정제 및 문장 길이 줄임\n",
        "sentence_new = []\n",
        "for sentence in sentences:\n",
        "  sentence_new.append([word[:5] for word in sentence][:25])\n",
        "sentences = sentence_new\n",
        "for i in range(5):\n",
        "  print(sentences[i])"
      ],
      "execution_count": 60,
      "outputs": [
        {
          "output_type": "stream",
          "text": [
            "['아', '더빙..', '진짜', '짜증나네요', '목소리']\n",
            "['흠...포', '초딩영화줄', '가볍지', '않구나']\n",
            "['너무재밓었']\n",
            "['교도소', '이야기구먼', '..솔직히', '재미는', '없다..평', '조정']\n",
            "['사이몬페그', '익살스런', '연기가', '돋보였던', '영화!스파', '늙어보이기', '했던', '커스틴', '던스트가', '너무나도', '이뻐보였다']\n"
          ],
          "name": "stdout"
        }
      ]
    },
    {
      "cell_type": "code",
      "metadata": {
        "id": "Qi36M3VYmiMC",
        "colab_type": "code",
        "colab": {
          "base_uri": "https://localhost:8080/",
          "height": 272
        },
        "outputId": "3ea64f23-7fdd-4498-a917-269982df3dcc"
      },
      "source": [
        "# Tokenizer와 pad_sequences를 이용한 문장 전처리\n",
        "from tensorflow.keras.preprocessing.text import Tokenizer\n",
        "from tensorflow.keras.preprocessing.sequence import pad_sequences\n",
        "\n",
        "tokenizer = Tokenizer(num_words=20000)\n",
        "tokenizer.fit_on_texts(sentences)\n",
        "train_X = tokenizer.texts_to_sequences(sentences)\n",
        "train_X = pad_sequences(train_X, padding='post')\n",
        "\n",
        "print(train_X[:5])"
      ],
      "execution_count": 61,
      "outputs": [
        {
          "output_type": "stream",
          "text": [
            "[[   49     4  6717  1068     0     0     0     0     0     0     0     0\n",
            "      0     0     0     0     0     0     0     0     0     0     0     0\n",
            "      0]\n",
            " [ 6718     0     0     0     0     0     0     0     0     0     0     0\n",
            "      0     0     0     0     0     0     0     0     0     0     0     0\n",
            "      0]\n",
            " [    0     0     0     0     0     0     0     0     0     0     0     0\n",
            "      0     0     0     0     0     0     0     0     0     0     0     0\n",
            "      0]\n",
            " [  324 11089     0     0     0     0     0     0     0     0     0     0\n",
            "      0     0     0     0     0     0     0     0     0     0     0     0\n",
            "      0]\n",
            " [   95  5218   787   501     0     0     0     0     0     0     0     0\n",
            "      0     0     0     0     0     0     0     0     0     0     0     0\n",
            "      0]]\n"
          ],
          "name": "stdout"
        }
      ]
    },
    {
      "cell_type": "code",
      "metadata": {
        "id": "IGw_DLAtnmYg",
        "colab_type": "code",
        "colab": {
          "base_uri": "https://localhost:8080/",
          "height": 255
        },
        "outputId": "df15ae54-ada1-4a2d-f0fc-f9f17b4073ed"
      },
      "source": [
        "# 감성 분석을 위한 모델 정의\n",
        "model = tf.keras.Sequential([\n",
        "  tf.keras.layers.Embedding(20000, 300, input_length=25),\n",
        "  tf.keras.layers.LSTM(units=50),\n",
        "  tf.keras.layers.Dense(2, activation='softmax')\n",
        "])\n",
        "\n",
        "model.compile(optimizer=\"adam\", loss='sparse_categorical_crossentropy', metrics=['accuracy'])\n",
        "model.summary()"
      ],
      "execution_count": 62,
      "outputs": [
        {
          "output_type": "stream",
          "text": [
            "Model: \"sequential_5\"\n",
            "_________________________________________________________________\n",
            "Layer (type)                 Output Shape              Param #   \n",
            "=================================================================\n",
            "embedding_2 (Embedding)      (None, 25, 300)           6000000   \n",
            "_________________________________________________________________\n",
            "lstm_3 (LSTM)                (None, 50)                70200     \n",
            "_________________________________________________________________\n",
            "dense_4 (Dense)              (None, 2)                 102       \n",
            "=================================================================\n",
            "Total params: 6,070,302\n",
            "Trainable params: 6,070,302\n",
            "Non-trainable params: 0\n",
            "_________________________________________________________________\n"
          ],
          "name": "stdout"
        }
      ]
    },
    {
      "cell_type": "code",
      "metadata": {
        "id": "2ghtP1ppoWo1",
        "colab_type": "code",
        "colab": {
          "base_uri": "https://localhost:8080/",
          "height": 187
        },
        "outputId": "dbe1bf4e-b498-4a17-ebb8-5dd6080c7778"
      },
      "source": [
        "# 감성 분석 모델 학습\n",
        "history = model.fit(train_X, train_Y, epochs=5, batch_size=128, validation_split=0.2)"
      ],
      "execution_count": 50,
      "outputs": [
        {
          "output_type": "stream",
          "text": [
            "Epoch 1/5\n",
            "938/938 [==============================] - 73s 78ms/step - loss: 0.4679 - accuracy: 0.7559 - val_loss: 0.4080 - val_accuracy: 0.7984\n",
            "Epoch 2/5\n",
            "938/938 [==============================] - 75s 80ms/step - loss: 0.3559 - accuracy: 0.8226 - val_loss: 0.4116 - val_accuracy: 0.7980\n",
            "Epoch 3/5\n",
            "938/938 [==============================] - 75s 79ms/step - loss: 0.3003 - accuracy: 0.8459 - val_loss: 0.4621 - val_accuracy: 0.7913\n",
            "Epoch 4/5\n",
            "938/938 [==============================] - 74s 79ms/step - loss: 0.2547 - accuracy: 0.8672 - val_loss: 0.5380 - val_accuracy: 0.7859\n",
            "Epoch 5/5\n",
            "938/938 [==============================] - 74s 78ms/step - loss: 0.2209 - accuracy: 0.8830 - val_loss: 0.6057 - val_accuracy: 0.7741\n"
          ],
          "name": "stdout"
        }
      ]
    },
    {
      "cell_type": "code",
      "metadata": {
        "id": "CfLh9QZaopZ6",
        "colab_type": "code",
        "colab": {
          "base_uri": "https://localhost:8080/",
          "height": 484
        },
        "outputId": "2871b3ab-154b-4d88-f77a-356f126dcc0a"
      },
      "source": [
        "# 감성 분석 모델 학습 결과 확인\n",
        "import matplotlib.pyplot as plt\n",
        "plt.figure(figsize=(12,4))\n",
        "\n",
        "plt.subplot(1,2,1)\n",
        "plt.plot(history.history['loss'], 'b-', label='loss')\n",
        "plt.plot(history.history['val_loss'], 'r--', label='val_loss')\n",
        "plt.xlabel('Epoch')\n",
        "plt.legend()\n",
        "\n",
        "plt.subplot(1,2,2)\n",
        "plt.plot(history.history['accuracy'], 'b-', label='accuracy')\n",
        "plt.plot(history.history['val_accuracy'], 'k--', label='val_accuracy')\n",
        "plt.xlabel('Epoch')\n",
        "plt.ylim(0.7,1)\n",
        "plt.legend()\n",
        "plt.show()"
      ],
      "execution_count": 2,
      "outputs": [
        {
          "output_type": "error",
          "ename": "NameError",
          "evalue": "ignored",
          "traceback": [
            "\u001b[0;31m---------------------------------------------------------------------------\u001b[0m",
            "\u001b[0;31mNameError\u001b[0m                                 Traceback (most recent call last)",
            "\u001b[0;32m<ipython-input-2-0b4c179715d2>\u001b[0m in \u001b[0;36m<module>\u001b[0;34m()\u001b[0m\n\u001b[1;32m      4\u001b[0m \u001b[0;34m\u001b[0m\u001b[0m\n\u001b[1;32m      5\u001b[0m \u001b[0mplt\u001b[0m\u001b[0;34m.\u001b[0m\u001b[0msubplot\u001b[0m\u001b[0;34m(\u001b[0m\u001b[0;36m1\u001b[0m\u001b[0;34m,\u001b[0m\u001b[0;36m2\u001b[0m\u001b[0;34m,\u001b[0m\u001b[0;36m1\u001b[0m\u001b[0;34m)\u001b[0m\u001b[0;34m\u001b[0m\u001b[0;34m\u001b[0m\u001b[0m\n\u001b[0;32m----> 6\u001b[0;31m \u001b[0mplt\u001b[0m\u001b[0;34m.\u001b[0m\u001b[0mplot\u001b[0m\u001b[0;34m(\u001b[0m\u001b[0mhistory\u001b[0m\u001b[0;34m.\u001b[0m\u001b[0mhistory\u001b[0m\u001b[0;34m[\u001b[0m\u001b[0;34m'loss'\u001b[0m\u001b[0;34m]\u001b[0m\u001b[0;34m,\u001b[0m \u001b[0;34m'b-'\u001b[0m\u001b[0;34m,\u001b[0m \u001b[0mlabel\u001b[0m\u001b[0;34m=\u001b[0m\u001b[0;34m'loss'\u001b[0m\u001b[0;34m)\u001b[0m\u001b[0;34m\u001b[0m\u001b[0;34m\u001b[0m\u001b[0m\n\u001b[0m\u001b[1;32m      7\u001b[0m \u001b[0mplt\u001b[0m\u001b[0;34m.\u001b[0m\u001b[0mplot\u001b[0m\u001b[0;34m(\u001b[0m\u001b[0mhistory\u001b[0m\u001b[0;34m.\u001b[0m\u001b[0mhistory\u001b[0m\u001b[0;34m[\u001b[0m\u001b[0;34m'val_loss'\u001b[0m\u001b[0;34m]\u001b[0m\u001b[0;34m,\u001b[0m \u001b[0;34m'r--'\u001b[0m\u001b[0;34m,\u001b[0m \u001b[0mlabel\u001b[0m\u001b[0;34m=\u001b[0m\u001b[0;34m'val_loss'\u001b[0m\u001b[0;34m)\u001b[0m\u001b[0;34m\u001b[0m\u001b[0;34m\u001b[0m\u001b[0m\n\u001b[1;32m      8\u001b[0m \u001b[0mplt\u001b[0m\u001b[0;34m.\u001b[0m\u001b[0mxlabel\u001b[0m\u001b[0;34m(\u001b[0m\u001b[0;34m'Epoch'\u001b[0m\u001b[0;34m)\u001b[0m\u001b[0;34m\u001b[0m\u001b[0;34m\u001b[0m\u001b[0m\n",
            "\u001b[0;31mNameError\u001b[0m: name 'history' is not defined"
          ]
        },
        {
          "output_type": "display_data",
          "data": {
            "image/png": "[encoded data removed]",
            "text/plain": [
              "<Figure size 864x288 with 1 Axes>"
            ]
          },
          "metadata": {
            "tags": [],
            "needs_background": "light"
          }
        }
      ]
    },
    {
      "cell_type": "code",
      "metadata": {
        "id": "dCOry7CAqrJF",
        "colab_type": "code",
        "colab": {
          "base_uri": "https://localhost:8080/",
          "height": 409
        },
        "outputId": "44353cc2-53a2-40b9-b061-9bbc1c83dcbc"
      },
      "source": [
        "# 테스트 데이터 평가\n",
        "test_text_X = [row.split('\\t')[1] for row in test_text.split('\\n')[1:] if row.count('\\t') > 0]\n",
        "test_text_X = [clean_str(sentence) for sentence in test_text_X]\n",
        "sentences = [sentence.split(' ') for sentence in test_text_X]\n",
        "sentences_new = []\n",
        "for sentence in sentences:\n",
        "  sentence_new.append([word[:5] for word in sentence][:25])\n",
        "sentences = sentences_new\n",
        "\n",
        "test_X = tokenizer.texts_to_sequences(sentence)\n",
        "test_X = pad_sequences(test_X, padding='post')\n",
        "\n",
        "model.evaluate(test_X, test_Y, verbose=0)"
      ],
      "execution_count": 71,
      "outputs": [
        {
          "output_type": "error",
          "ename": "ValueError",
          "evalue": "ignored",
          "traceback": [
            "\u001b[0;31m---------------------------------------------------------------------------\u001b[0m",
            "\u001b[0;31mValueError\u001b[0m                                Traceback (most recent call last)",
            "\u001b[0;32m<ipython-input-71-459d621c5c25>\u001b[0m in \u001b[0;36m<module>\u001b[0;34m()\u001b[0m\n\u001b[1;32m     11\u001b[0m \u001b[0mtest_X\u001b[0m \u001b[0;34m=\u001b[0m \u001b[0mpad_sequences\u001b[0m\u001b[0;34m(\u001b[0m\u001b[0mtest_X\u001b[0m\u001b[0;34m,\u001b[0m \u001b[0mpadding\u001b[0m\u001b[0;34m=\u001b[0m\u001b[0;34m'post'\u001b[0m\u001b[0;34m)\u001b[0m\u001b[0;34m\u001b[0m\u001b[0;34m\u001b[0m\u001b[0m\n\u001b[1;32m     12\u001b[0m \u001b[0;34m\u001b[0m\u001b[0m\n\u001b[0;32m---> 13\u001b[0;31m \u001b[0mmodel\u001b[0m\u001b[0;34m.\u001b[0m\u001b[0mevaluate\u001b[0m\u001b[0;34m(\u001b[0m\u001b[0mtest_X\u001b[0m\u001b[0;34m,\u001b[0m \u001b[0mtest_Y\u001b[0m\u001b[0;34m,\u001b[0m \u001b[0mverbose\u001b[0m\u001b[0;34m=\u001b[0m\u001b[0;36m0\u001b[0m\u001b[0;34m)\u001b[0m\u001b[0;34m\u001b[0m\u001b[0;34m\u001b[0m\u001b[0m\n\u001b[0m",
            "\u001b[0;32m/usr/local/lib/python3.6/dist-packages/tensorflow/python/keras/engine/training.py\u001b[0m in \u001b[0;36m_method_wrapper\u001b[0;34m(self, *args, **kwargs)\u001b[0m\n\u001b[1;32m    106\u001b[0m   \u001b[0;32mdef\u001b[0m \u001b[0m_method_wrapper\u001b[0m\u001b[0;34m(\u001b[0m\u001b[0mself\u001b[0m\u001b[0;34m,\u001b[0m \u001b[0;34m*\u001b[0m\u001b[0margs\u001b[0m\u001b[0;34m,\u001b[0m \u001b[0;34m**\u001b[0m\u001b[0mkwargs\u001b[0m\u001b[0;34m)\u001b[0m\u001b[0;34m:\u001b[0m\u001b[0;34m\u001b[0m\u001b[0;34m\u001b[0m\u001b[0m\n\u001b[1;32m    107\u001b[0m     \u001b[0;32mif\u001b[0m \u001b[0;32mnot\u001b[0m \u001b[0mself\u001b[0m\u001b[0;34m.\u001b[0m\u001b[0m_in_multi_worker_mode\u001b[0m\u001b[0;34m(\u001b[0m\u001b[0;34m)\u001b[0m\u001b[0;34m:\u001b[0m  \u001b[0;31m# pylint: disable=protected-access\u001b[0m\u001b[0;34m\u001b[0m\u001b[0;34m\u001b[0m\u001b[0m\n\u001b[0;32m--> 108\u001b[0;31m       \u001b[0;32mreturn\u001b[0m \u001b[0mmethod\u001b[0m\u001b[0;34m(\u001b[0m\u001b[0mself\u001b[0m\u001b[0;34m,\u001b[0m \u001b[0;34m*\u001b[0m\u001b[0margs\u001b[0m\u001b[0;34m,\u001b[0m \u001b[0;34m**\u001b[0m\u001b[0mkwargs\u001b[0m\u001b[0;34m)\u001b[0m\u001b[0;34m\u001b[0m\u001b[0;34m\u001b[0m\u001b[0m\n\u001b[0m\u001b[1;32m    109\u001b[0m \u001b[0;34m\u001b[0m\u001b[0m\n\u001b[1;32m    110\u001b[0m     \u001b[0;31m# Running inside `run_distribute_coordinator` already.\u001b[0m\u001b[0;34m\u001b[0m\u001b[0;34m\u001b[0m\u001b[0;34m\u001b[0m\u001b[0m\n",
            "\u001b[0;32m/usr/local/lib/python3.6/dist-packages/tensorflow/python/keras/engine/training.py\u001b[0m in \u001b[0;36mevaluate\u001b[0;34m(self, x, y, batch_size, verbose, sample_weight, steps, callbacks, max_queue_size, workers, use_multiprocessing, return_dict)\u001b[0m\n\u001b[1;32m   1354\u001b[0m             \u001b[0muse_multiprocessing\u001b[0m\u001b[0;34m=\u001b[0m\u001b[0muse_multiprocessing\u001b[0m\u001b[0;34m,\u001b[0m\u001b[0;34m\u001b[0m\u001b[0;34m\u001b[0m\u001b[0m\n\u001b[1;32m   1355\u001b[0m             \u001b[0mmodel\u001b[0m\u001b[0;34m=\u001b[0m\u001b[0mself\u001b[0m\u001b[0;34m,\u001b[0m\u001b[0;34m\u001b[0m\u001b[0;34m\u001b[0m\u001b[0m\n\u001b[0;32m-> 1356\u001b[0;31m             steps_per_execution=self._steps_per_execution)\n\u001b[0m\u001b[1;32m   1357\u001b[0m \u001b[0;34m\u001b[0m\u001b[0m\n\u001b[1;32m   1358\u001b[0m       \u001b[0;31m# Container that configures and calls `tf.keras.Callback`s.\u001b[0m\u001b[0;34m\u001b[0m\u001b[0;34m\u001b[0m\u001b[0;34m\u001b[0m\u001b[0m\n",
            "\u001b[0;32m/usr/local/lib/python3.6/dist-packages/tensorflow/python/keras/engine/data_adapter.py\u001b[0m in \u001b[0;36m__init__\u001b[0;34m(self, x, y, sample_weight, batch_size, steps_per_epoch, initial_epoch, epochs, shuffle, class_weight, max_queue_size, workers, use_multiprocessing, model, steps_per_execution)\u001b[0m\n\u001b[1;32m   1115\u001b[0m         \u001b[0muse_multiprocessing\u001b[0m\u001b[0;34m=\u001b[0m\u001b[0muse_multiprocessing\u001b[0m\u001b[0;34m,\u001b[0m\u001b[0;34m\u001b[0m\u001b[0;34m\u001b[0m\u001b[0m\n\u001b[1;32m   1116\u001b[0m         \u001b[0mdistribution_strategy\u001b[0m\u001b[0;34m=\u001b[0m\u001b[0mds_context\u001b[0m\u001b[0;34m.\u001b[0m\u001b[0mget_strategy\u001b[0m\u001b[0;34m(\u001b[0m\u001b[0;34m)\u001b[0m\u001b[0;34m,\u001b[0m\u001b[0;34m\u001b[0m\u001b[0;34m\u001b[0m\u001b[0m\n\u001b[0;32m-> 1117\u001b[0;31m         model=model)\n\u001b[0m\u001b[1;32m   1118\u001b[0m \u001b[0;34m\u001b[0m\u001b[0m\n\u001b[1;32m   1119\u001b[0m     \u001b[0mstrategy\u001b[0m \u001b[0;34m=\u001b[0m \u001b[0mds_context\u001b[0m\u001b[0;34m.\u001b[0m\u001b[0mget_strategy\u001b[0m\u001b[0;34m(\u001b[0m\u001b[0;34m)\u001b[0m\u001b[0;34m\u001b[0m\u001b[0;34m\u001b[0m\u001b[0m\n",
            "\u001b[0;32m/usr/local/lib/python3.6/dist-packages/tensorflow/python/keras/engine/data_adapter.py\u001b[0m in \u001b[0;36m__init__\u001b[0;34m(self, x, y, sample_weights, sample_weight_modes, batch_size, epochs, steps, shuffle, **kwargs)\u001b[0m\n\u001b[1;32m    280\u001b[0m             label, \", \".join(str(i.shape[0]) for i in nest.flatten(data)))\n\u001b[1;32m    281\u001b[0m       \u001b[0mmsg\u001b[0m \u001b[0;34m+=\u001b[0m \u001b[0;34m\"Please provide data which shares the same first dimension.\"\u001b[0m\u001b[0;34m\u001b[0m\u001b[0;34m\u001b[0m\u001b[0m\n\u001b[0;32m--> 282\u001b[0;31m       \u001b[0;32mraise\u001b[0m \u001b[0mValueError\u001b[0m\u001b[0;34m(\u001b[0m\u001b[0mmsg\u001b[0m\u001b[0;34m)\u001b[0m\u001b[0;34m\u001b[0m\u001b[0;34m\u001b[0m\u001b[0m\n\u001b[0m\u001b[1;32m    283\u001b[0m     \u001b[0mnum_samples\u001b[0m \u001b[0;34m=\u001b[0m \u001b[0mnum_samples\u001b[0m\u001b[0;34m.\u001b[0m\u001b[0mpop\u001b[0m\u001b[0;34m(\u001b[0m\u001b[0;34m)\u001b[0m\u001b[0;34m\u001b[0m\u001b[0;34m\u001b[0m\u001b[0m\n\u001b[1;32m    284\u001b[0m \u001b[0;34m\u001b[0m\u001b[0m\n",
            "\u001b[0;31mValueError\u001b[0m: Data cardinality is ambiguous:\n  x sizes: 3\n  y sizes: 50000\nPlease provide data which shares the same first dimension."
          ]
        }
      ]
    },
    {
      "cell_type": "markdown",
      "metadata": {
        "id": "puzVOTEuvfVY",
        "colab_type": "text"
      },
      "source": [
        "# 자연어\n",
        "조선왕조실록 데이터로 "
      ]
    },
    {
      "cell_type": "code",
      "metadata": {
        "id": "uQIaCyLEvkJL",
        "colab_type": "code",
        "colab": {
          "base_uri": "https://localhost:8080/",
          "height": 51
        },
        "outputId": "385930c7-fb39-4acb-ac6a-4dd94d334bc1"
      },
      "source": [
        "# 데이터 가져오기\n",
        "path_to_file = tf.keras.utils.get_file('corpus.txt', 'https://raw.githubusercontent.com/greentec/greentec.github.io/master/public/other/data/chosundynasty/corpus.txt')"
      ],
      "execution_count": 11,
      "outputs": [
        {
          "output_type": "stream",
          "text": [
            "Downloading data from https://raw.githubusercontent.com/greentec/greentec.github.io/master/public/other/data/chosundynasty/corpus.txt\n",
            "62013440/62012502 [==============================] - 1s 0us/step\n"
          ],
          "name": "stdout"
        }
      ]
    },
    {
      "cell_type": "code",
      "metadata": {
        "id": "tZFKvAsMwB3M",
        "colab_type": "code",
        "colab": {
          "base_uri": "https://localhost:8080/",
          "height": 85
        },
        "outputId": "d2328ab3-8752-4ce3-8f14-b290186b89fb"
      },
      "source": [
        "# 데이터 로드 및 확인\n",
        "train_text = open(path_to_file, 'rb').read().decode(encoding='utf-8')\n",
        "\n",
        "print('Length of text : {} characters'.format(len(train_text)))\n",
        "print()\n",
        "\n",
        "print(train_text[:100])"
      ],
      "execution_count": 12,
      "outputs": [
        {
          "output_type": "stream",
          "text": [
            "Length of text : 26265493 characters\n",
            "\n",
            "﻿태조 이성계 선대의 가계. 목조 이안사가 전주에서 삼척·의주를 거쳐 알동에 정착하다 \n",
            "태조 강헌 지인 계운 성문 신무 대왕(太祖康獻至仁啓運聖文神武大王)의 성은 이씨(李氏)요, 휘\n"
          ],
          "name": "stdout"
        }
      ]
    },
    {
      "cell_type": "code",
      "metadata": {
        "id": "3hhFa5m8ws4d",
        "colab_type": "code",
        "colab": {
          "base_uri": "https://localhost:8080/",
          "height": 34
        },
        "outputId": "4832c88e-56c8-4878-b8fe-a446883d7655"
      },
      "source": [
        "# 훈련 데이터의 입력(X) 정제\n",
        "import re\n",
        "\n",
        "def clean_str(string):\n",
        "  string = re.sub(r\"[^가-힣A-Za-z0-9(),!?\\'\\`]\", \" \", string)\n",
        "  string = re.sub(r\"\\'s\", \" \\'s\", string)\n",
        "  string = re.sub(r\"\\'ve\", \" \\'ve\", string)\n",
        "  string = re.sub(r\"n\\'t\", \" n\\'t\" , string)\n",
        "  string = re.sub(r\"\\'re\", \" \\'re\" , string)\n",
        "  string = re.sub(r\"\\'d\", \" \\'d\" , string)\n",
        "  string = re.sub(r\"\\'ll\", \" \\'ll\" , string)\n",
        "  string = re.sub(r\",\", \" , \" , string)\n",
        "  string = re.sub(r\"!\", \" ! \" , string)\n",
        "  string = re.sub(r\"\\(\", \" \\( \" , string)\n",
        "  string = re.sub(r\"\\)\", \" \\) \" , string)\n",
        "  string = re.sub(r\"\\?\", \" \\? \" , string)\n",
        "  string = re.sub(r\"\\s{2,}\", \" \" , string)\n",
        "  string = re.sub(r\"\\'{2,}\", \"\\'\" , string)\n",
        "  string = re.sub(r\"\\'\", \"\" , string)\n",
        "\n",
        "  return string.lower()\n",
        "\n",
        "train_text = train_text.split('\\n')\n",
        "train_text = [clean_str(sentence) for sentence in train_text]\n",
        "train_text_X = []\n",
        "for sentence in train_text:\n",
        "  train_text_X.extend(sentence.split(' '))\n",
        "  train_text_X.append('\\n')\n",
        "\n",
        "train_text_X = [word for word in train_text_X if word != '']\n",
        "\n",
        "print(train_text_X[:20])"
      ],
      "execution_count": 13,
      "outputs": [
        {
          "output_type": "stream",
          "text": [
            "['태조', '이성계', '선대의', '가계', '목조', '이안사가', '전주에서', '삼척', '의주를', '거쳐', '알동에', '정착하다', '\\n', '태조', '강헌', '지인', '계운', '성문', '신무', '대왕']\n"
          ],
          "name": "stdout"
        }
      ]
    },
    {
      "cell_type": "code",
      "metadata": {
        "id": "xR9yO3N_x78e",
        "colab_type": "code",
        "colab": {
          "base_uri": "https://localhost:8080/",
          "height": 272
        },
        "outputId": "415d8121-30da-4d80-b34e-ce0576bde166"
      },
      "source": [
        "# 단어 토큰화\n",
        "vocab = sorted(set(train_text_X))\n",
        "vocab.append(\"UNK\")\n",
        "print('{} unique words'.format(len(vocab)))\n",
        "\n",
        "word2idx = {u:i for i, u in enumerate(vocab)}\n",
        "idx2word = np.array(vocab)\n",
        "\n",
        "text_as_int = np.array([word2idx[c] for c in train_text_X])\n",
        "\n",
        "print('{')\n",
        "for word, _ in zip(word2idx, range(10)):\n",
        "  print('  {:4s}: {:3d}, '.format(repr(word), word2idx[word]))\n",
        "print(' ...\\n}')\n",
        "\n",
        "print('index of UNK: {}'.format(word2idx['UNK']))"
      ],
      "execution_count": 15,
      "outputs": [
        {
          "output_type": "stream",
          "text": [
            "332515 unique words\n",
            "{\n",
            "  '\\n':   0, \n",
            "  '!' :   1, \n",
            "  ',' :   2, \n",
            "  '000명으로':   3, \n",
            "  '001':   4, \n",
            "  '002':   5, \n",
            "  '003':   6, \n",
            "  '004':   7, \n",
            "  '005':   8, \n",
            "  '006':   9, \n",
            " ...\n",
            "}\n",
            "index of UNK: 332514\n"
          ],
          "name": "stdout"
        }
      ]
    },
    {
      "cell_type": "code",
      "metadata": {
        "id": "PQYdx7WHwF5B",
        "colab_type": "code",
        "colab": {
          "base_uri": "https://localhost:8080/",
          "height": 68
        },
        "outputId": "c7bbfa2f-a443-4a0a-c90a-438d28b32749"
      },
      "source": [
        "# 토큰 데이터 확인\n",
        "print(train_text_X[:20])\n",
        "print(text_as_int[:20])"
      ],
      "execution_count": 17,
      "outputs": [
        {
          "output_type": "stream",
          "text": [
            "['태조', '이성계', '선대의', '가계', '목조', '이안사가', '전주에서', '삼척', '의주를', '거쳐', '알동에', '정착하다', '\\n', '태조', '강헌', '지인', '계운', '성문', '신무', '대왕']\n",
            "[299181 229520 161349  17366 110944 230178 250960 154993 225348  28960\n",
            " 190192 256005      0 299181  25557 273428  36069 163902 180371  84330]\n"
          ],
          "name": "stdout"
        }
      ]
    },
    {
      "cell_type": "code",
      "metadata": {
        "id": "-iCi_LxNwTKe",
        "colab_type": "code",
        "colab": {
          "base_uri": "https://localhost:8080/",
          "height": 102
        },
        "outputId": "ad7024a6-9c0d-4e2f-a33d-69ca77ce9031"
      },
      "source": [
        "# 기본 데이터세트 만들기\n",
        "seq_length = 25\n",
        "examples_per_epoch = len(text_as_int) // seq_length\n",
        "sentence_dataset = tf.data.Dataset.from_tensor_slices(text_as_int)\n",
        "sentence_dataset = sentence_dataset.batch(seq_length+1, drop_remainder=True)\n",
        "for item in sentence_dataset.take(1):\n",
        "  print(idx2word[item.numpy()])\n",
        "  print(item.numpy())"
      ],
      "execution_count": 30,
      "outputs": [
        {
          "output_type": "stream",
          "text": [
            "['태조' '이성계' '선대의' '가계' '목조' '이안사가' '전주에서' '삼척' '의주를' '거쳐' '알동에' '정착하다'\n",
            " '\\n' '태조' '강헌' '지인' '계운' '성문' '신무' '대왕' '\\\\(' '\\\\)' '의' '성은' '이씨' '\\\\(']\n",
            "[299181 229520 161349  17366 110944 230178 250960 154993 225348  28960\n",
            " 190192 256005      0 299181  25557 273428  36069 163902 180371  84330\n",
            "  17277  17278 224068 164455 230134  17277]\n"
          ],
          "name": "stdout"
        }
      ]
    },
    {
      "cell_type": "code",
      "metadata": {
        "id": "_56fKUxGw5BR",
        "colab_type": "code",
        "colab": {
          "base_uri": "https://localhost:8080/",
          "height": 136
        },
        "outputId": "3495ce63-4fd7-4458-c59e-648aaaad9fe4"
      },
      "source": [
        "# 학습 데이터세트 만들기\n",
        "def split_input_target(chunk):\n",
        "  return [chunk[:-1], chunk[-1]]\n",
        "\n",
        "train_dataset = sentence_dataset.map(split_input_target)\n",
        "for x, y in train_dataset.take(1):\n",
        "  print(idx2word[x.numpy()])\n",
        "  print(x.numpy())\n",
        "  print(idx2word[y.numpy()])\n",
        "  print(y.numpy())"
      ],
      "execution_count": 20,
      "outputs": [
        {
          "output_type": "stream",
          "text": [
            "['태조' '이성계' '선대의' '가계' '목조' '이안사가' '전주에서' '삼척' '의주를' '거쳐' '알동에' '정착하다'\n",
            " '\\n' '태조' '강헌' '지인' '계운' '성문' '신무' '대왕' '\\\\(' '\\\\)' '의' '성은' '이씨']\n",
            "[299181 229520 161349  17366 110944 230178 250960 154993 225348  28960\n",
            " 190192 256005      0 299181  25557 273428  36069 163902 180371  84330\n",
            "  17277  17278 224068 164455 230134]\n",
            "\\(\n",
            "17277\n"
          ],
          "name": "stdout"
        }
      ]
    },
    {
      "cell_type": "code",
      "metadata": {
        "id": "zG2onuG33YOW",
        "colab_type": "code",
        "colab": {}
      },
      "source": [
        "# 데이터 세트 shuffle, batch 설정\n",
        "BATCH_SIZE = 128\n",
        "steps_per_epoch = examples_per_epoch\n",
        "BUFFER_SIZE = 10000\n",
        "\n",
        "train_dataset = train_dataset.shuffle(BUFFER_SIZE).batch(BATCH_SIZE, drop_remainder=True)"
      ],
      "execution_count": 27,
      "outputs": []
    },
    {
      "cell_type": "code",
      "metadata": {
        "id": "kWcdax10zBG4",
        "colab_type": "code",
        "colab": {
          "base_uri": "https://localhost:8080/",
          "height": 323
        },
        "outputId": "d76dbdbd-1fd6-4118-f4fb-9a8e497fa7d2"
      },
      "source": [
        "# 단어 단위 생성 모델 정의\n",
        "total_words = len(vocab)\n",
        "model = tf.keras.Sequential([\n",
        "  tf.keras.layers.Embedding(total_words, 100, input_length=seq_length),\n",
        "  tf.keras.layers.LSTM(units=100, return_sequences=True),\n",
        "  tf.keras.layers.Dropout(0.2),\n",
        "  tf.keras.layers.LSTM(units=100),\n",
        "  tf.keras.layers.Dense(total_words, activation='softmax')\n",
        "])\n",
        "\n",
        "model.compile(optimizer='adam', loss='sparse_categorical_crossentropy', metrics=['accuracy'])\n",
        "model.summary()"
      ],
      "execution_count": 28,
      "outputs": [
        {
          "output_type": "stream",
          "text": [
            "Model: \"sequential_3\"\n",
            "_________________________________________________________________\n",
            "Layer (type)                 Output Shape              Param #   \n",
            "=================================================================\n",
            "embedding_1 (Embedding)      (None, 25, 100)           33251500  \n",
            "_________________________________________________________________\n",
            "lstm_2 (LSTM)                (None, 25, 100)           80400     \n",
            "_________________________________________________________________\n",
            "dropout_1 (Dropout)          (None, 25, 100)           0         \n",
            "_________________________________________________________________\n",
            "lstm_3 (LSTM)                (None, 100)               80400     \n",
            "_________________________________________________________________\n",
            "dense_2 (Dense)              (None, 332515)            33584015  \n",
            "=================================================================\n",
            "Total params: 66,996,315\n",
            "Trainable params: 66,996,315\n",
            "Non-trainable params: 0\n",
            "_________________________________________________________________\n"
          ],
          "name": "stdout"
        }
      ]
    },
    {
      "cell_type": "code",
      "metadata": {
        "id": "NewniE_r0Y8T",
        "colab_type": "code",
        "colab": {
          "base_uri": "https://localhost:8080/",
          "height": 34
        },
        "outputId": "a4736d15-b134-4816-cd5e-d32007218e85"
      },
      "source": [
        "# 단어 단위 생성 모델 학습\n",
        "from tensorflow.keras.preprocessing.sequence import pad_sequences\n",
        "\n",
        "def testmodel(epoch, logs):\n",
        "  if epoch % 5 != 0 and epoch != 49:\n",
        "    return\n",
        "  test_sentence = train_text[0]\n",
        "\n",
        "  next_words = 100\n",
        "  for _ in range(next_words):\n",
        "    test_text_X = test_sentence.split(' ')[-seq_length:]\n",
        "    test_text_X = np.array([word2idx[c] if c in word2idx else word2idx['UNK'] for c in test_text_X])\n",
        "\n",
        "    test_text_X = pad_sequences([test_text_X], maxlen=seq_length, padding='pre', value=word2idx['UNK'])\n",
        "\n",
        "    output_idx = model.predict_classes(test_text_X)\n",
        "    test_sentence += ' ' + idx2word[output_idx[0]]\n",
        "\n",
        "  print()\n",
        "  print(test_text_X)\n",
        "  print()\n",
        "\n",
        "testmodelcb = tf.keras.callbacks.LambdaCallback(on_epoch_end=testmodel)\n",
        "\n",
        "history = model.fit(train_dataset.repeat(), epochs=50, steps_per_epoch=steps_per_epoch, callbacks=[testmodelcb], verbose=2)\n"
      ],
      "execution_count": null,
      "outputs": [
        {
          "output_type": "stream",
          "text": [
            "Epoch 1/50\n"
          ],
          "name": "stdout"
        }
      ]
    }
  ]
}
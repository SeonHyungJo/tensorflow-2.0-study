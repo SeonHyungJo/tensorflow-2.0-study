{
  "nbformat": 4,
  "nbformat_minor": 0,
  "metadata": {
    "colab": {
      "name": "Ch05 분류.ipynb",
      "provenance": [],
      "collapsed_sections": [],
      "authorship_tag": "ABX9TyO0nPl72bpDgAhzUpT/yRpN",
      "include_colab_link": true
    },
    "kernelspec": {
      "name": "python3",
      "display_name": "Python 3"
    }
  },
  "cells": [
    {
      "cell_type": "markdown",
      "metadata": {
        "id": "view-in-github",
        "colab_type": "text"
      },
      "source": [
        "<a href=\"https://colab.research.google.com/github/SeonHyungJo/tensorflow-2.0-study/blob/master/Ch05_%EB%B6%84%EB%A5%98.ipynb\" target=\"_parent\"><img src=\"https://colab.research.google.com/assets/colab-badge.svg\" alt=\"Open In Colab\"/></a>"
      ]
    },
    {
      "cell_type": "code",
      "metadata": {
        "id": "YCgOW9s018aH",
        "colab_type": "code",
        "colab": {
          "base_uri": "https://localhost:8080/",
          "height": 493
        },
        "outputId": "e96f6db8-8a33-4419-b4c3-555ca96f5655"
      },
      "source": [
        "# 와인 분류\n",
        "import pandas as pd\n",
        "red = pd.read_csv('https://archive.ics.uci.edu/ml/machine-learning-databases/wine-quality/winequality-red.csv', sep=';')\n",
        "white = pd.read_csv('https://archive.ics.uci.edu/ml/machine-learning-databases/wine-quality/winequality-white.csv', sep=';')\n",
        "print(red)\n",
        "print(white)"
      ],
      "execution_count": null,
      "outputs": [
        {
          "output_type": "stream",
          "text": [
            "      fixed acidity  volatile acidity  citric acid  ...  sulphates  alcohol  quality\n",
            "0               7.4             0.700         0.00  ...       0.56      9.4        5\n",
            "1               7.8             0.880         0.00  ...       0.68      9.8        5\n",
            "2               7.8             0.760         0.04  ...       0.65      9.8        5\n",
            "3              11.2             0.280         0.56  ...       0.58      9.8        6\n",
            "4               7.4             0.700         0.00  ...       0.56      9.4        5\n",
            "...             ...               ...          ...  ...        ...      ...      ...\n",
            "1594            6.2             0.600         0.08  ...       0.58     10.5        5\n",
            "1595            5.9             0.550         0.10  ...       0.76     11.2        6\n",
            "1596            6.3             0.510         0.13  ...       0.75     11.0        6\n",
            "1597            5.9             0.645         0.12  ...       0.71     10.2        5\n",
            "1598            6.0             0.310         0.47  ...       0.66     11.0        6\n",
            "\n",
            "[1599 rows x 12 columns]\n",
            "      fixed acidity  volatile acidity  citric acid  ...  sulphates  alcohol  quality\n",
            "0               7.0              0.27         0.36  ...       0.45      8.8        6\n",
            "1               6.3              0.30         0.34  ...       0.49      9.5        6\n",
            "2               8.1              0.28         0.40  ...       0.44     10.1        6\n",
            "3               7.2              0.23         0.32  ...       0.40      9.9        6\n",
            "4               7.2              0.23         0.32  ...       0.40      9.9        6\n",
            "...             ...               ...          ...  ...        ...      ...      ...\n",
            "4893            6.2              0.21         0.29  ...       0.50     11.2        6\n",
            "4894            6.6              0.32         0.36  ...       0.46      9.6        5\n",
            "4895            6.5              0.24         0.19  ...       0.46      9.4        6\n",
            "4896            5.5              0.29         0.30  ...       0.38     12.8        7\n",
            "4897            6.0              0.21         0.38  ...       0.32     11.8        6\n",
            "\n",
            "[4898 rows x 12 columns]\n"
          ],
          "name": "stdout"
        }
      ]
    },
    {
      "cell_type": "code",
      "metadata": {
        "id": "zx-k4E_l4YL6",
        "colab_type": "code",
        "colab": {
          "base_uri": "https://localhost:8080/",
          "height": 374
        },
        "outputId": "c5cd36d8-8ebe-4aab-9763-3e316366be7e"
      },
      "source": [
        "# 레드와인과 화이트와인 데이터를 합치기\n",
        "red['type'] = 0\n",
        "white['type'] = 1\n",
        "print(red.head(2))\n",
        "print(white.head(2))\n",
        "\n",
        "wine = pd.concat([red, white])\n",
        "print(wine.describe())"
      ],
      "execution_count": null,
      "outputs": [
        {
          "output_type": "stream",
          "text": [
            "   fixed acidity  volatile acidity  citric acid  ...  alcohol  quality  type\n",
            "0            7.4              0.70          0.0  ...      9.4        5     0\n",
            "1            7.8              0.88          0.0  ...      9.8        5     0\n",
            "\n",
            "[2 rows x 13 columns]\n",
            "   fixed acidity  volatile acidity  citric acid  ...  alcohol  quality  type\n",
            "0            7.0              0.27         0.36  ...      8.8        6     1\n",
            "1            6.3              0.30         0.34  ...      9.5        6     1\n",
            "\n",
            "[2 rows x 13 columns]\n",
            "       fixed acidity  volatile acidity  ...      quality         type\n",
            "count    6497.000000       6497.000000  ...  6497.000000  6497.000000\n",
            "mean        7.215307          0.339666  ...     5.818378     0.753886\n",
            "std         1.296434          0.164636  ...     0.873255     0.430779\n",
            "min         3.800000          0.080000  ...     3.000000     0.000000\n",
            "25%         6.400000          0.230000  ...     5.000000     1.000000\n",
            "50%         7.000000          0.290000  ...     6.000000     1.000000\n",
            "75%         7.700000          0.400000  ...     6.000000     1.000000\n",
            "max        15.900000          1.580000  ...     9.000000     1.000000\n",
            "\n",
            "[8 rows x 13 columns]\n"
          ],
          "name": "stdout"
        }
      ]
    },
    {
      "cell_type": "code",
      "metadata": {
        "id": "cyA8EYfu5q6-",
        "colab_type": "code",
        "colab": {
          "base_uri": "https://localhost:8080/",
          "height": 316
        },
        "outputId": "5291c7ad-7d04-4812-9b15-de251ca67fa3"
      },
      "source": [
        "# 레드와인과 화이트와인에 대한 type 히스토그램\n",
        "import matplotlib.pyplot as plt\n",
        "plt.hist(wine['type'])\n",
        "plt.xticks([0,1])\n",
        "plt.show()\n",
        "\n",
        "print(wine['type'].value_counts())"
      ],
      "execution_count": null,
      "outputs": [
        {
          "output_type": "display_data",
          "data": {
            "image/png": "[encoded data removed]",
            "text/plain": [
              "<Figure size 432x288 with 1 Axes>"
            ]
          },
          "metadata": {
            "tags": [],
            "needs_background": "light"
          }
        },
        {
          "output_type": "stream",
          "text": [
            "1    4898\n",
            "0    1599\n",
            "Name: type, dtype: int64\n"
          ],
          "name": "stdout"
        }
      ]
    },
    {
      "cell_type": "code",
      "metadata": {
        "id": "gx76a_cf6Szo",
        "colab_type": "code",
        "colab": {
          "base_uri": "https://localhost:8080/",
          "height": 374
        },
        "outputId": "e78d6c96-db37-410f-8d91-abb6f80c6027"
      },
      "source": [
        "print(wine.info())"
      ],
      "execution_count": null,
      "outputs": [
        {
          "output_type": "stream",
          "text": [
            "<class 'pandas.core.frame.DataFrame'>\n",
            "Int64Index: 6497 entries, 0 to 4897\n",
            "Data columns (total 13 columns):\n",
            " #   Column                Non-Null Count  Dtype  \n",
            "---  ------                --------------  -----  \n",
            " 0   fixed acidity         6497 non-null   float64\n",
            " 1   volatile acidity      6497 non-null   float64\n",
            " 2   citric acid           6497 non-null   float64\n",
            " 3   residual sugar        6497 non-null   float64\n",
            " 4   chlorides             6497 non-null   float64\n",
            " 5   free sulfur dioxide   6497 non-null   float64\n",
            " 6   total sulfur dioxide  6497 non-null   float64\n",
            " 7   density               6497 non-null   float64\n",
            " 8   pH                    6497 non-null   float64\n",
            " 9   sulphates             6497 non-null   float64\n",
            " 10  alcohol               6497 non-null   float64\n",
            " 11  quality               6497 non-null   int64  \n",
            " 12  type                  6497 non-null   int64  \n",
            "dtypes: float64(11), int64(2)\n",
            "memory usage: 710.6 KB\n",
            "None\n"
          ],
          "name": "stdout"
        }
      ]
    },
    {
      "cell_type": "code",
      "metadata": {
        "id": "6SLjTQVP6aFh",
        "colab_type": "code",
        "colab": {
          "base_uri": "https://localhost:8080/",
          "height": 340
        },
        "outputId": "891d68ac-e638-48d2-e8cb-1827bfedea24"
      },
      "source": [
        "# 데이터 정규화\n",
        "wine_norm = (wine - wine.min()) / (wine.max() - wine.min())\n",
        "print(wine_norm.head())\n",
        "print(wine_norm.describe())"
      ],
      "execution_count": null,
      "outputs": [
        {
          "output_type": "stream",
          "text": [
            "   fixed acidity  volatile acidity  citric acid  ...   alcohol   quality  type\n",
            "0       0.297521          0.413333     0.000000  ...  0.202899  0.333333   0.0\n",
            "1       0.330579          0.533333     0.000000  ...  0.260870  0.333333   0.0\n",
            "2       0.330579          0.453333     0.024096  ...  0.260870  0.333333   0.0\n",
            "3       0.611570          0.133333     0.337349  ...  0.260870  0.500000   0.0\n",
            "4       0.297521          0.413333     0.000000  ...  0.202899  0.333333   0.0\n",
            "\n",
            "[5 rows x 13 columns]\n",
            "       fixed acidity  volatile acidity  ...      quality         type\n",
            "count    6497.000000       6497.000000  ...  6497.000000  6497.000000\n",
            "mean        0.282257          0.173111  ...     0.469730     0.753886\n",
            "std         0.107143          0.109758  ...     0.145543     0.430779\n",
            "min         0.000000          0.000000  ...     0.000000     0.000000\n",
            "25%         0.214876          0.100000  ...     0.333333     1.000000\n",
            "50%         0.264463          0.140000  ...     0.500000     1.000000\n",
            "75%         0.322314          0.213333  ...     0.500000     1.000000\n",
            "max         1.000000          1.000000  ...     1.000000     1.000000\n",
            "\n",
            "[8 rows x 13 columns]\n"
          ],
          "name": "stdout"
        }
      ]
    },
    {
      "cell_type": "code",
      "metadata": {
        "id": "z24EeNVR69yB",
        "colab_type": "code",
        "colab": {
          "base_uri": "https://localhost:8080/",
          "height": 408
        },
        "outputId": "1a29fe6f-1033-4231-9b48-a5bad7909f9f"
      },
      "source": [
        "# 데이터를 섞은 후 넘파이 array로 변환\n",
        "import numpy as np\n",
        "wine_shuffle = wine_norm.sample(frac=1)\n",
        "print(wine_shuffle.head())\n",
        "wine_np = wine_shuffle.to_numpy()\n",
        "print(wine_np[:5])\n"
      ],
      "execution_count": null,
      "outputs": [
        {
          "output_type": "stream",
          "text": [
            "      fixed acidity  volatile acidity  citric acid  ...   alcohol   quality  type\n",
            "3628       0.214876          0.200000     0.120482  ...  0.217391  0.500000   1.0\n",
            "25         0.264463          0.113333     0.192771  ...  0.347826  0.500000   1.0\n",
            "1463       0.256198          0.366667     0.006024  ...  0.405797  0.500000   0.0\n",
            "1784       0.239669          0.106667     0.174699  ...  0.521739  0.666667   1.0\n",
            "342        0.214876          0.120000     0.253012  ...  0.159420  0.500000   1.0\n",
            "\n",
            "[5 rows x 13 columns]\n",
            "[[0.21487603 0.2        0.12048193 0.07208589 0.17940199 0.19444444\n",
            "  0.40322581 0.14420667 0.40310078 0.11797753 0.2173913  0.5\n",
            "  1.        ]\n",
            " [0.26446281 0.11333333 0.19277108 0.12883436 0.06146179 0.19097222\n",
            "  0.55069124 0.16175053 0.41085271 0.15730337 0.34782609 0.5\n",
            "  1.        ]\n",
            " [0.25619835 0.36666667 0.0060241  0.02760736 0.11129568 0.04513889\n",
            "  0.07603687 0.15635242 0.48062016 0.1741573  0.4057971  0.5\n",
            "  0.        ]\n",
            " [0.23966942 0.10666667 0.1746988  0.09509202 0.04817276 0.18402778\n",
            "  0.27880184 0.11740891 0.47286822 0.13483146 0.52173913 0.66666667\n",
            "  1.        ]\n",
            " [0.21487603 0.12       0.25301205 0.13957055 0.05813953 0.10069444\n",
            "  0.30875576 0.17524581 0.35658915 0.14044944 0.15942029 0.5\n",
            "  1.        ]]\n"
          ],
          "name": "stdout"
        }
      ]
    },
    {
      "cell_type": "code",
      "metadata": {
        "id": "_FLb4LVZ7kHD",
        "colab_type": "code",
        "colab": {
          "base_uri": "https://localhost:8080/",
          "height": 153
        },
        "outputId": "e548be7b-cbbd-4c72-d3cc-cfa882b4b1ec"
      },
      "source": [
        "# 훈련 데이터와 테스트 데이터로 분리\n",
        "import tensorflow as tf\n",
        "train_idx = int(len(wine_np) * 0.8)\n",
        "train_X, train_Y = wine_np[:train_idx, :-1], wine_np[:train_idx, -1]\n",
        "\n",
        "test_X, test_Y = wine_np[train_idx:, : -1], wine_np[train_idx:, -1]\n",
        "print(train_X[0])\n",
        "print(train_Y[0])\n",
        "print(test_X[0])\n",
        "print(test_Y[0])\n",
        "\n",
        "train_Y = tf.keras.utils.to_categorical(train_Y, num_classes=2)\n",
        "test_Y = tf.keras.utils.to_categorical(test_Y, num_classes=2)\n",
        "print(train_Y[0])\n",
        "print(test_Y[0])"
      ],
      "execution_count": null,
      "outputs": [
        {
          "output_type": "stream",
          "text": [
            "[0.21487603 0.2        0.12048193 0.07208589 0.17940199 0.19444444\n",
            " 0.40322581 0.14420667 0.40310078 0.11797753 0.2173913  0.5       ]\n",
            "1.0\n",
            "[0.21487603 0.05333333 0.15060241 0.0107362  0.06312292 0.06597222\n",
            " 0.16359447 0.1193368  0.68992248 0.17977528 0.31884058 0.5       ]\n",
            "1.0\n",
            "[0. 1.]\n",
            "[0. 1.]\n"
          ],
          "name": "stdout"
        }
      ]
    },
    {
      "cell_type": "code",
      "metadata": {
        "id": "TYgWIEWh8sxj",
        "colab_type": "code",
        "colab": {
          "base_uri": "https://localhost:8080/",
          "height": 289
        },
        "outputId": "23f97e6e-997c-495e-ab06-1bd81487a7c2"
      },
      "source": [
        "# 와인 데이터세트 분류 모델 생성\n",
        "import tensorflow as tf\n",
        "model = tf.keras.Sequential([\n",
        "  tf.keras.layers.Dense(units=48, activation='relu', input_shape=(12,)),\n",
        "  tf.keras.layers.Dense(units=24, activation='relu'),\n",
        "  tf.keras.layers.Dense(units=12, activation='relu'),\n",
        "  tf.keras.layers.Dense(units=2, activation='softmax')\n",
        "])\n",
        "\n",
        "model.compile(optimizer=tf.keras.optimizers.Adam(lr=0.07), loss='categorical_crossentropy', metrics=['accuracy'])\n",
        "\n",
        "model.summary()"
      ],
      "execution_count": null,
      "outputs": [
        {
          "output_type": "stream",
          "text": [
            "Model: \"sequential_6\"\n",
            "_________________________________________________________________\n",
            "Layer (type)                 Output Shape              Param #   \n",
            "=================================================================\n",
            "dense_24 (Dense)             (None, 48)                624       \n",
            "_________________________________________________________________\n",
            "dense_25 (Dense)             (None, 24)                1176      \n",
            "_________________________________________________________________\n",
            "dense_26 (Dense)             (None, 12)                300       \n",
            "_________________________________________________________________\n",
            "dense_27 (Dense)             (None, 2)                 26        \n",
            "=================================================================\n",
            "Total params: 2,126\n",
            "Trainable params: 2,126\n",
            "Non-trainable params: 0\n",
            "_________________________________________________________________\n"
          ],
          "name": "stdout"
        }
      ]
    },
    {
      "cell_type": "code",
      "metadata": {
        "id": "wEMzee3O_-Xo",
        "colab_type": "code",
        "colab": {
          "base_uri": "https://localhost:8080/",
          "height": 867
        },
        "outputId": "303b4bb6-e64b-4b45-97cf-baae07c0c5bd"
      },
      "source": [
        "# 분류 모델 학습\n",
        "history = model.fit(train_X, train_Y, epochs=25, batch_size=32, validation_split=0.25)"
      ],
      "execution_count": null,
      "outputs": [
        {
          "output_type": "stream",
          "text": [
            "Epoch 1/25\n",
            "122/122 [==============================] - 0s 3ms/step - loss: 0.1689 - accuracy: 0.9497 - val_loss: 0.1022 - val_accuracy: 0.9646\n",
            "Epoch 2/25\n",
            "122/122 [==============================] - 0s 1ms/step - loss: 0.0624 - accuracy: 0.9820 - val_loss: 0.0268 - val_accuracy: 0.9900\n",
            "Epoch 3/25\n",
            "122/122 [==============================] - 0s 1ms/step - loss: 0.0556 - accuracy: 0.9841 - val_loss: 0.0409 - val_accuracy: 0.9931\n",
            "Epoch 4/25\n",
            "122/122 [==============================] - 0s 1ms/step - loss: 0.0561 - accuracy: 0.9856 - val_loss: 0.0209 - val_accuracy: 0.9938\n",
            "Epoch 5/25\n",
            "122/122 [==============================] - 0s 1ms/step - loss: 0.1102 - accuracy: 0.9749 - val_loss: 0.0374 - val_accuracy: 0.9892\n",
            "Epoch 6/25\n",
            "122/122 [==============================] - 0s 2ms/step - loss: 0.0618 - accuracy: 0.9836 - val_loss: 0.0243 - val_accuracy: 0.9931\n",
            "Epoch 7/25\n",
            "122/122 [==============================] - 0s 2ms/step - loss: 0.0462 - accuracy: 0.9885 - val_loss: 0.0228 - val_accuracy: 0.9931\n",
            "Epoch 8/25\n",
            "122/122 [==============================] - 0s 2ms/step - loss: 0.0516 - accuracy: 0.9861 - val_loss: 0.0194 - val_accuracy: 0.9938\n",
            "Epoch 9/25\n",
            "122/122 [==============================] - 0s 1ms/step - loss: 0.0453 - accuracy: 0.9877 - val_loss: 0.0304 - val_accuracy: 0.9915\n",
            "Epoch 10/25\n",
            "122/122 [==============================] - 0s 1ms/step - loss: 0.0566 - accuracy: 0.9838 - val_loss: 0.0609 - val_accuracy: 0.9808\n",
            "Epoch 11/25\n",
            "122/122 [==============================] - 0s 1ms/step - loss: 0.0445 - accuracy: 0.9890 - val_loss: 0.0167 - val_accuracy: 0.9954\n",
            "Epoch 12/25\n",
            "122/122 [==============================] - 0s 1ms/step - loss: 0.0448 - accuracy: 0.9885 - val_loss: 0.0291 - val_accuracy: 0.9938\n",
            "Epoch 13/25\n",
            "122/122 [==============================] - 0s 1ms/step - loss: 0.0430 - accuracy: 0.9902 - val_loss: 0.0252 - val_accuracy: 0.9954\n",
            "Epoch 14/25\n",
            "122/122 [==============================] - 0s 2ms/step - loss: 0.0408 - accuracy: 0.9882 - val_loss: 0.0255 - val_accuracy: 0.9938\n",
            "Epoch 15/25\n",
            "122/122 [==============================] - 0s 1ms/step - loss: 0.0456 - accuracy: 0.9879 - val_loss: 0.0591 - val_accuracy: 0.9892\n",
            "Epoch 16/25\n",
            "122/122 [==============================] - 0s 1ms/step - loss: 0.0484 - accuracy: 0.9874 - val_loss: 0.0232 - val_accuracy: 0.9938\n",
            "Epoch 17/25\n",
            "122/122 [==============================] - 0s 2ms/step - loss: 0.0431 - accuracy: 0.9887 - val_loss: 0.0403 - val_accuracy: 0.9908\n",
            "Epoch 18/25\n",
            "122/122 [==============================] - 0s 1ms/step - loss: 0.0457 - accuracy: 0.9879 - val_loss: 0.0272 - val_accuracy: 0.9954\n",
            "Epoch 19/25\n",
            "122/122 [==============================] - 0s 1ms/step - loss: 0.0427 - accuracy: 0.9879 - val_loss: 0.0179 - val_accuracy: 0.9946\n",
            "Epoch 20/25\n",
            "122/122 [==============================] - 0s 2ms/step - loss: 0.0416 - accuracy: 0.9897 - val_loss: 0.0309 - val_accuracy: 0.9938\n",
            "Epoch 21/25\n",
            "122/122 [==============================] - 0s 2ms/step - loss: 0.0342 - accuracy: 0.9918 - val_loss: 0.0195 - val_accuracy: 0.9969\n",
            "Epoch 22/25\n",
            "122/122 [==============================] - 0s 2ms/step - loss: 0.0500 - accuracy: 0.9882 - val_loss: 0.0268 - val_accuracy: 0.9954\n",
            "Epoch 23/25\n",
            "122/122 [==============================] - 0s 1ms/step - loss: 0.0338 - accuracy: 0.9920 - val_loss: 0.0143 - val_accuracy: 0.9946\n",
            "Epoch 24/25\n",
            "122/122 [==============================] - 0s 1ms/step - loss: 0.0385 - accuracy: 0.9897 - val_loss: 0.0168 - val_accuracy: 0.9946\n",
            "Epoch 25/25\n",
            "122/122 [==============================] - 0s 2ms/step - loss: 0.0310 - accuracy: 0.9918 - val_loss: 0.0241 - val_accuracy: 0.9938\n"
          ],
          "name": "stdout"
        }
      ]
    },
    {
      "cell_type": "code",
      "metadata": {
        "id": "pM5jsTb5A5BT",
        "colab_type": "code",
        "colab": {
          "base_uri": "https://localhost:8080/",
          "height": 283
        },
        "outputId": "fccd7c77-9c7f-44df-c32c-c809484bdc49"
      },
      "source": [
        "# 분류 모델의 학습 결과 시각화\n",
        "import matplotlib.pyplot as plt\n",
        "plt.figure(figsize=(12,4))\n",
        "\n",
        "plt.subplot(1, 2, 1)\n",
        "plt.plot(history.history['loss'], 'b-', label='loss')\n",
        "plt.plot(history.history['val_loss'], 'r--', label='val_loss')\n",
        "plt.xlabel('Epoch')\n",
        "plt.legend()\n",
        "\n",
        "plt.subplot(1, 2, 2)\n",
        "plt.plot(history.history['accuracy'], 'g-', label='accruacy')\n",
        "plt.plot(history.history['val_accuracy'], 'k--', label='val_accruacy')\n",
        "plt.xlabel('Epoch')\n",
        "plt.ylim(0.7, 1)\n",
        "plt.legend()\n",
        "\n",
        "plt.show()"
      ],
      "execution_count": null,
      "outputs": [
        {
          "output_type": "display_data",
          "data": {
            "image/png": "[encoded data removed]",
            "text/plain": [
              "<Figure size 864x288 with 2 Axes>"
            ]
          },
          "metadata": {
            "tags": [],
            "needs_background": "light"
          }
        }
      ]
    },
    {
      "cell_type": "code",
      "metadata": {
        "id": "aKyWpnGHCB7C",
        "colab_type": "code",
        "colab": {
          "base_uri": "https://localhost:8080/",
          "height": 51
        },
        "outputId": "a2eb1c27-9f76-4cc6-a52f-714ab2b3695d"
      },
      "source": [
        "# 분류 모델 평가\n",
        "model.evaluate(test_X, test_Y)"
      ],
      "execution_count": null,
      "outputs": [
        {
          "output_type": "stream",
          "text": [
            "41/41 [==============================] - 0s 901us/step - loss: 0.0267 - accuracy: 0.9938\n"
          ],
          "name": "stdout"
        },
        {
          "output_type": "execute_result",
          "data": {
            "text/plain": [
              "[0.026719525456428528, 0.9938461780548096]"
            ]
          },
          "metadata": {
            "tags": []
          },
          "execution_count": 39
        }
      ]
    },
    {
      "cell_type": "code",
      "metadata": {
        "id": "Qld8P3IzCpjb",
        "colab_type": "code",
        "colab": {
          "base_uri": "https://localhost:8080/",
          "height": 306
        },
        "outputId": "726c2fdd-0f8d-46a2-a8b8-5323abc12bae"
      },
      "source": [
        "# 다항분류\n",
        "# 와인의 품질 예측\n",
        "print(wine['quality'].describe())\n",
        "print(wine['quality'].value_counts())"
      ],
      "execution_count": null,
      "outputs": [
        {
          "output_type": "stream",
          "text": [
            "count    6497.000000\n",
            "mean        5.818378\n",
            "std         0.873255\n",
            "min         3.000000\n",
            "25%         5.000000\n",
            "50%         6.000000\n",
            "75%         6.000000\n",
            "max         9.000000\n",
            "Name: quality, dtype: float64\n",
            "6    2836\n",
            "5    2138\n",
            "7    1079\n",
            "4     216\n",
            "8     193\n",
            "3      30\n",
            "9       5\n",
            "Name: quality, dtype: int64\n"
          ],
          "name": "stdout"
        }
      ]
    },
    {
      "cell_type": "code",
      "metadata": {
        "id": "aTrIDpdrDAir",
        "colab_type": "code",
        "colab": {
          "base_uri": "https://localhost:8080/",
          "height": 265
        },
        "outputId": "2c78f6c6-4923-4b02-c0ee-451828a4a614"
      },
      "source": [
        "# 품질 히스토그램 시각화\n",
        "import matplotlib.pyplot as plt\n",
        "plt.hist(wine['quality'], bins=7, rwidth=0.8)\n",
        "plt.show()\n"
      ],
      "execution_count": null,
      "outputs": [
        {
          "output_type": "display_data",
          "data": {
            "image/png": "[encoded data removed]",
            "text/plain": [
              "<Figure size 432x288 with 1 Axes>"
            ]
          },
          "metadata": {
            "tags": [],
            "needs_background": "light"
          }
        }
      ]
    },
    {
      "cell_type": "code",
      "metadata": {
        "id": "LhDmcPHTDXI1",
        "colab_type": "code",
        "colab": {
          "base_uri": "https://localhost:8080/",
          "height": 238
        },
        "outputId": "85a3733c-74ac-477e-be6a-866caa26f754"
      },
      "source": [
        "# 품질을 3개의 범주(좋음, 보통, 나쁨)으로 재분류\n",
        "wine.loc[wine['quality'] <=5, 'new_quaity'] = 0\n",
        "wine.loc[wine['quality'] ==6, 'new_quaity'] = 1\n",
        "wine.loc[wine['quality'] >=7, 'new_quaity'] = 2\n",
        "\n",
        "print(wine['new_quaity'].describe())\n",
        "print(wine['new_quaity'].value_counts())"
      ],
      "execution_count": null,
      "outputs": [
        {
          "output_type": "stream",
          "text": [
            "count    6497.000000\n",
            "mean        0.829614\n",
            "std         0.731124\n",
            "min         0.000000\n",
            "25%         0.000000\n",
            "50%         1.000000\n",
            "75%         1.000000\n",
            "max         2.000000\n",
            "Name: new_quaity, dtype: float64\n",
            "1.0    2836\n",
            "0.0    2384\n",
            "2.0    1277\n",
            "Name: new_quaity, dtype: int64\n"
          ],
          "name": "stdout"
        }
      ]
    }
  ]
}